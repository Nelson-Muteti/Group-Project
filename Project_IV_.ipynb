{
  "nbformat": 4,
  "nbformat_minor": 0,
  "metadata": {
    "colab": {
      "name": "Project IV .ipynb",
      "provenance": [],
      "collapsed_sections": [
        "66u3pffS_ZeB",
        "1c0-gjmy_i7b"
      ],
      "toc_visible": true,
      "include_colab_link": true
    },
    "kernelspec": {
      "name": "python3",
      "display_name": "Python 3"
    }
  },
  "cells": [
    {
      "cell_type": "markdown",
      "metadata": {
        "id": "view-in-github",
        "colab_type": "text"
      },
      "source": [
        "<a href=\"https://colab.research.google.com/github/Nelson-Muteti/Group-Project/blob/main/Project_IV_.ipynb\" target=\"_parent\"><img src=\"https://colab.research.google.com/assets/colab-badge.svg\" alt=\"Open In Colab\"/></a>"
      ]
    },
    {
      "cell_type": "markdown",
      "metadata": {
        "id": "gUG2yl-J-54j"
      },
      "source": [
        "# **ACCIDENTS IN KENYA DATA ANALYSIS**\r\n",
        "\r\n",
        "\r\n"
      ]
    },
    {
      "cell_type": "markdown",
      "metadata": {
        "id": "eJlbNWVl_F6_"
      },
      "source": [
        "### **Importing necessary libraries**\r\n"
      ]
    },
    {
      "cell_type": "code",
      "metadata": {
        "id": "WCaRHWbLAmhv"
      },
      "source": [
        "#import necessary libraries\r\n",
        "import pandas as pd\r\n",
        "\r\n",
        "import numpy as np\r\n",
        "\r\n",
        "import matplotlib.pyplot as plt\r\n",
        "% matplotlib inline "
      ],
      "execution_count": null,
      "outputs": []
    },
    {
      "cell_type": "markdown",
      "metadata": {
        "id": "wxfmEintGeO6"
      },
      "source": [
        "### **Loading Datasets**"
      ]
    },
    {
      "cell_type": "code",
      "metadata": {
        "colab": {
          "base_uri": "https://localhost:8080/",
          "height": 394
        },
        "id": "xyDwRvmuGj-b",
        "outputId": "1f338ed8-e563-464b-b761-e7303355fd95"
      },
      "source": [
        "#Load the 2011 dataset\r\n",
        "\r\n",
        "Accidents_2011= pd.read_csv('2011_Traffic_Incidences_From_Desinventar.csv')\r\n",
        "\r\n",
        "Accidents_2011.head()"
      ],
      "execution_count": null,
      "outputs": [
        {
          "output_type": "execute_result",
          "data": {
            "text/html": [
              "<div>\n",
              "<style scoped>\n",
              "    .dataframe tbody tr th:only-of-type {\n",
              "        vertical-align: middle;\n",
              "    }\n",
              "\n",
              "    .dataframe tbody tr th {\n",
              "        vertical-align: top;\n",
              "    }\n",
              "\n",
              "    .dataframe thead th {\n",
              "        text-align: right;\n",
              "    }\n",
              "</style>\n",
              "<table border=\"1\" class=\"dataframe\">\n",
              "  <thead>\n",
              "    <tr style=\"text-align: right;\">\n",
              "      <th></th>\n",
              "      <th>_Serial</th>\n",
              "      <th>Event</th>\n",
              "      <th>Code_County</th>\n",
              "      <th>County</th>\n",
              "      <th>Code_District</th>\n",
              "      <th>District</th>\n",
              "      <th>Code_Division</th>\n",
              "      <th>Division</th>\n",
              "      <th>Date_YMD</th>\n",
              "      <th>Comments</th>\n",
              "      <th>Cause</th>\n",
              "      <th>Description_of_Cause</th>\n",
              "      <th>Source</th>\n",
              "      <th>Magnitude</th>\n",
              "      <th>GLIDEnumber</th>\n",
              "      <th>Other_sectors</th>\n",
              "      <th>DataCards</th>\n",
              "      <th>Deaths</th>\n",
              "      <th>Injured</th>\n",
              "      <th>Missing</th>\n",
              "      <th>Houses_Destroyed</th>\n",
              "      <th>Houses_Damaged</th>\n",
              "      <th>Victims</th>\n",
              "      <th>Affected</th>\n",
              "      <th>Relocated</th>\n",
              "      <th>Evacuated</th>\n",
              "      <th>Losses_$USD</th>\n",
              "      <th>Losses_$Local</th>\n",
              "      <th>Education_centers</th>\n",
              "      <th>Hospitals</th>\n",
              "      <th>Damages_in_crops_Ha</th>\n",
              "      <th>Lost_Cattle</th>\n",
              "      <th>OBJECTID</th>\n",
              "    </tr>\n",
              "  </thead>\n",
              "  <tbody>\n",
              "    <tr>\n",
              "      <th>0</th>\n",
              "      <td>Serial</td>\n",
              "      <td>Event</td>\n",
              "      <td>Code County</td>\n",
              "      <td>County</td>\n",
              "      <td>Code District</td>\n",
              "      <td>District</td>\n",
              "      <td>Code Division</td>\n",
              "      <td>Division</td>\n",
              "      <td>Date (YMD)</td>\n",
              "      <td>Comments</td>\n",
              "      <td>Cause</td>\n",
              "      <td>Description of Cause</td>\n",
              "      <td>Source</td>\n",
              "      <td>Magnitude</td>\n",
              "      <td>GLIDEnumber</td>\n",
              "      <td>Other sectors</td>\n",
              "      <td>DataCards</td>\n",
              "      <td>Deaths</td>\n",
              "      <td>Injured</td>\n",
              "      <td>Missing</td>\n",
              "      <td>Houses Destroyed</td>\n",
              "      <td>Houses Damaged</td>\n",
              "      <td>Victims</td>\n",
              "      <td>Affected</td>\n",
              "      <td>Relocated</td>\n",
              "      <td>Evacuated</td>\n",
              "      <td>Losses $USD</td>\n",
              "      <td>Losses $Local</td>\n",
              "      <td>Education centers</td>\n",
              "      <td>Hospitals</td>\n",
              "      <td>Damages in crops Ha.</td>\n",
              "      <td>Lost Cattle</td>\n",
              "      <td>0</td>\n",
              "    </tr>\n",
              "    <tr>\n",
              "      <th>1</th>\n",
              "      <td>11</td>\n",
              "      <td>TRAFFIC ACCIDENT</td>\n",
              "      <td>13</td>\n",
              "      <td>KIAMBU</td>\n",
              "      <td>1301</td>\n",
              "      <td>KIAMBU</td>\n",
              "      <td>130104</td>\n",
              "      <td>LARI</td>\n",
              "      <td>11/09/2011 08:00:00 AM +0000</td>\n",
              "      <td>NaN</td>\n",
              "      <td>Error</td>\n",
              "      <td>Pedestrian crossing road</td>\n",
              "      <td>KPR</td>\n",
              "      <td>NaN</td>\n",
              "      <td>NaN</td>\n",
              "      <td>car damaged</td>\n",
              "      <td>1</td>\n",
              "      <td>1</td>\n",
              "      <td>0</td>\n",
              "      <td>0</td>\n",
              "      <td>0</td>\n",
              "      <td>0</td>\n",
              "      <td>0</td>\n",
              "      <td>0</td>\n",
              "      <td>0</td>\n",
              "      <td>0</td>\n",
              "      <td>0</td>\n",
              "      <td>0</td>\n",
              "      <td>0</td>\n",
              "      <td>0</td>\n",
              "      <td>0</td>\n",
              "      <td>0</td>\n",
              "      <td>1</td>\n",
              "    </tr>\n",
              "    <tr>\n",
              "      <th>2</th>\n",
              "      <td>29</td>\n",
              "      <td>TRAFFIC ACCIDENT</td>\n",
              "      <td>30</td>\n",
              "      <td>NAIROBI</td>\n",
              "      <td>3001</td>\n",
              "      <td>NAIROBI</td>\n",
              "      <td>300106</td>\n",
              "      <td>MAKADARA</td>\n",
              "      <td>01/01/2011 08:00:00 AM +0000</td>\n",
              "      <td>NaN</td>\n",
              "      <td>NaN</td>\n",
              "      <td>Hit and run</td>\n",
              "      <td>KPR</td>\n",
              "      <td>NaN</td>\n",
              "      <td>NaN</td>\n",
              "      <td>NaN</td>\n",
              "      <td>1</td>\n",
              "      <td>1</td>\n",
              "      <td>0</td>\n",
              "      <td>0</td>\n",
              "      <td>0</td>\n",
              "      <td>0</td>\n",
              "      <td>0</td>\n",
              "      <td>0</td>\n",
              "      <td>0</td>\n",
              "      <td>0</td>\n",
              "      <td>0</td>\n",
              "      <td>0</td>\n",
              "      <td>0</td>\n",
              "      <td>0</td>\n",
              "      <td>0</td>\n",
              "      <td>0</td>\n",
              "      <td>2</td>\n",
              "    </tr>\n",
              "    <tr>\n",
              "      <th>3</th>\n",
              "      <td>35</td>\n",
              "      <td>TRAFFIC ACCIDENT</td>\n",
              "      <td>12</td>\n",
              "      <td>KERICHO</td>\n",
              "      <td>1203</td>\n",
              "      <td>BURET</td>\n",
              "      <td>120303</td>\n",
              "      <td>KONOIN</td>\n",
              "      <td>01/01/2011 08:00:00 AM +0000</td>\n",
              "      <td>NaN</td>\n",
              "      <td>Other cause</td>\n",
              "      <td>Driver lost control of the vehicle.</td>\n",
              "      <td>KPR</td>\n",
              "      <td>NaN</td>\n",
              "      <td>NaN</td>\n",
              "      <td>The motor vehicle front bumper and windscreen ...</td>\n",
              "      <td>1</td>\n",
              "      <td>0</td>\n",
              "      <td>14</td>\n",
              "      <td>0</td>\n",
              "      <td>0</td>\n",
              "      <td>0</td>\n",
              "      <td>0</td>\n",
              "      <td>0</td>\n",
              "      <td>0</td>\n",
              "      <td>0</td>\n",
              "      <td>0</td>\n",
              "      <td>0</td>\n",
              "      <td>0</td>\n",
              "      <td>0</td>\n",
              "      <td>0</td>\n",
              "      <td>0</td>\n",
              "      <td>3</td>\n",
              "    </tr>\n",
              "    <tr>\n",
              "      <th>4</th>\n",
              "      <td>20</td>\n",
              "      <td>TRAFFIC ACCIDENT</td>\n",
              "      <td>23</td>\n",
              "      <td>MAKUENI</td>\n",
              "      <td>2305</td>\n",
              "      <td>MAKUENI</td>\n",
              "      <td>230504</td>\n",
              "      <td>KASIKEU</td>\n",
              "      <td>01/30/2011 08:00:00 AM +0000</td>\n",
              "      <td>NaN</td>\n",
              "      <td>Negligence</td>\n",
              "      <td>Recklessness</td>\n",
              "      <td>NaN</td>\n",
              "      <td>NaN</td>\n",
              "      <td>NaN</td>\n",
              "      <td>Minivan and Leyland lorry damaged</td>\n",
              "      <td>1</td>\n",
              "      <td>0</td>\n",
              "      <td>1</td>\n",
              "      <td>0</td>\n",
              "      <td>0</td>\n",
              "      <td>0</td>\n",
              "      <td>0</td>\n",
              "      <td>0</td>\n",
              "      <td>0</td>\n",
              "      <td>0</td>\n",
              "      <td>0</td>\n",
              "      <td>0</td>\n",
              "      <td>0</td>\n",
              "      <td>0</td>\n",
              "      <td>0</td>\n",
              "      <td>0</td>\n",
              "      <td>4</td>\n",
              "    </tr>\n",
              "  </tbody>\n",
              "</table>\n",
              "</div>"
            ],
            "text/plain": [
              "  _Serial             Event  ...  Lost_Cattle OBJECTID\n",
              "0  Serial             Event  ...  Lost Cattle        0\n",
              "1      11  TRAFFIC ACCIDENT  ...            0        1\n",
              "2      29  TRAFFIC ACCIDENT  ...            0        2\n",
              "3      35  TRAFFIC ACCIDENT  ...            0        3\n",
              "4      20  TRAFFIC ACCIDENT  ...            0        4\n",
              "\n",
              "[5 rows x 33 columns]"
            ]
          },
          "metadata": {
            "tags": []
          },
          "execution_count": 2
        }
      ]
    },
    {
      "cell_type": "code",
      "metadata": {
        "colab": {
          "base_uri": "https://localhost:8080/"
        },
        "id": "ONYWOM66Hhhi",
        "outputId": "d555de26-d7ec-4455-d8e5-3d56d24a397d"
      },
      "source": [
        "# Finding general information about the 2011 dataset\r\n",
        "Accidents_2011.info()"
      ],
      "execution_count": null,
      "outputs": [
        {
          "output_type": "stream",
          "text": [
            "<class 'pandas.core.frame.DataFrame'>\n",
            "RangeIndex: 1355 entries, 0 to 1354\n",
            "Data columns (total 33 columns):\n",
            " #   Column                Non-Null Count  Dtype \n",
            "---  ------                --------------  ----- \n",
            " 0   _Serial               1355 non-null   object\n",
            " 1   Event                 1355 non-null   object\n",
            " 2   Code_County           1355 non-null   object\n",
            " 3   County                1355 non-null   object\n",
            " 4   Code_District         1347 non-null   object\n",
            " 5   District              1347 non-null   object\n",
            " 6   Code_Division         1189 non-null   object\n",
            " 7   Division              1189 non-null   object\n",
            " 8   Date_YMD              1355 non-null   object\n",
            " 9   Comments              132 non-null    object\n",
            " 10  Cause                 1334 non-null   object\n",
            " 11  Description_of_Cause  1250 non-null   object\n",
            " 12  Source                1310 non-null   object\n",
            " 13  Magnitude             1 non-null      object\n",
            " 14  GLIDEnumber           1 non-null      object\n",
            " 15  Other_sectors         324 non-null    object\n",
            " 16  DataCards             1355 non-null   object\n",
            " 17  Deaths                1355 non-null   object\n",
            " 18  Injured               1355 non-null   object\n",
            " 19  Missing               1355 non-null   object\n",
            " 20  Houses_Destroyed      1355 non-null   object\n",
            " 21  Houses_Damaged        1355 non-null   object\n",
            " 22  Victims               1355 non-null   object\n",
            " 23  Affected              1355 non-null   object\n",
            " 24  Relocated             1355 non-null   object\n",
            " 25  Evacuated             1355 non-null   object\n",
            " 26  Losses_$USD           1355 non-null   object\n",
            " 27  Losses_$Local         1355 non-null   object\n",
            " 28  Education_centers     1355 non-null   object\n",
            " 29  Hospitals             1355 non-null   object\n",
            " 30  Damages_in_crops_Ha   1355 non-null   object\n",
            " 31  Lost_Cattle           1355 non-null   object\n",
            " 32  OBJECTID              1355 non-null   int64 \n",
            "dtypes: int64(1), object(32)\n",
            "memory usage: 349.5+ KB\n"
          ],
          "name": "stdout"
        }
      ]
    },
    {
      "cell_type": "code",
      "metadata": {
        "colab": {
          "base_uri": "https://localhost:8080/"
        },
        "id": "hYZsN1bqHv-3",
        "outputId": "67818fd4-9c26-4173-86e5-8e8b685ea1fe"
      },
      "source": [
        "# dataset size\r\n",
        "\r\n",
        "Accidents_2011.shape"
      ],
      "execution_count": null,
      "outputs": [
        {
          "output_type": "execute_result",
          "data": {
            "text/plain": [
              "(1355, 33)"
            ]
          },
          "metadata": {
            "tags": []
          },
          "execution_count": 4
        }
      ]
    },
    {
      "cell_type": "code",
      "metadata": {
        "colab": {
          "base_uri": "https://localhost:8080/",
          "height": 496
        },
        "id": "YDQNq2iCHC0U",
        "outputId": "34090805-e180-4387-8697-48872be84885"
      },
      "source": [
        "# Load the 2017 dataset\r\n",
        "\r\n",
        "xls = pd.ExcelFile('kenya-accidents-database.xlsx')\r\n",
        "Accidents_2017 = pd.read_excel(xls, '2017')\r\n",
        "Accidents_2016 = pd.read_excel(xls, '2016')\r\n",
        "\r\n",
        "Accidents_2017.head()"
      ],
      "execution_count": null,
      "outputs": [
        {
          "output_type": "execute_result",
          "data": {
            "text/html": [
              "<div>\n",
              "<style scoped>\n",
              "    .dataframe tbody tr th:only-of-type {\n",
              "        vertical-align: middle;\n",
              "    }\n",
              "\n",
              "    .dataframe tbody tr th {\n",
              "        vertical-align: top;\n",
              "    }\n",
              "\n",
              "    .dataframe thead th {\n",
              "        text-align: right;\n",
              "    }\n",
              "</style>\n",
              "<table border=\"1\" class=\"dataframe\">\n",
              "  <thead>\n",
              "    <tr style=\"text-align: right;\">\n",
              "      <th></th>\n",
              "      <th>TIME 24 HOURS</th>\n",
              "      <th>BASE/SUB BASE</th>\n",
              "      <th>COUNTY</th>\n",
              "      <th>ROAD</th>\n",
              "      <th>PLACE</th>\n",
              "      <th>MV INVOLVED</th>\n",
              "      <th>BRIEF ACCIDENT DETAILS</th>\n",
              "      <th>NAME OF VICTIM</th>\n",
              "      <th>GENDER</th>\n",
              "      <th>AGE</th>\n",
              "      <th>CAUSE CODE</th>\n",
              "      <th>VICTIM</th>\n",
              "      <th>NO.</th>\n",
              "      <th>Date DD/MM/YYYY</th>\n",
              "      <th>Unnamed: 14</th>\n",
              "    </tr>\n",
              "  </thead>\n",
              "  <tbody>\n",
              "    <tr>\n",
              "      <th>0</th>\n",
              "      <td>745</td>\n",
              "      <td>KISUMU</td>\n",
              "      <td>KISUMU</td>\n",
              "      <td>NAIROBI-BUSIA</td>\n",
              "      <td>KASAGAM FLY OVER</td>\n",
              "      <td>KBS 163T/ZD 9531 AXIOR TRAILER</td>\n",
              "      <td>THE VEHICLE LOST CONTROL AND HIT BARRIER LANDI...</td>\n",
              "      <td>UNKNOWN</td>\n",
              "      <td>F</td>\n",
              "      <td>A</td>\n",
              "      <td>29.0</td>\n",
              "      <td>PASSENGER</td>\n",
              "      <td>1.0</td>\n",
              "      <td>2017-11-06</td>\n",
              "      <td>2017-06-11</td>\n",
              "    </tr>\n",
              "    <tr>\n",
              "      <th>1</th>\n",
              "      <td>1430</td>\n",
              "      <td>NAROK</td>\n",
              "      <td>NAROK</td>\n",
              "      <td>NAROK-MAU</td>\n",
              "      <td>NAROK TOWN</td>\n",
              "      <td>KBS 518A HONDA CRV</td>\n",
              "      <td>THE VEHICLE KNOCKED DOWN THE VICTIM</td>\n",
              "      <td>UNKNOWN</td>\n",
              "      <td>M</td>\n",
              "      <td>80</td>\n",
              "      <td>68.0</td>\n",
              "      <td>PEDESTRIAN</td>\n",
              "      <td>1.0</td>\n",
              "      <td>2017-11-06</td>\n",
              "      <td>NaT</td>\n",
              "    </tr>\n",
              "    <tr>\n",
              "      <th>2</th>\n",
              "      <td>1515</td>\n",
              "      <td>LONDIANI</td>\n",
              "      <td>KERICHO</td>\n",
              "      <td>KERICHO-NAKURU</td>\n",
              "      <td>JUBERT AREA</td>\n",
              "      <td>KTCB 472K JOHN DEER</td>\n",
              "      <td>THE VEHICLE LOST CONTROL,VEERING OFF THE ROAD ...</td>\n",
              "      <td>UNKNOWN</td>\n",
              "      <td>M</td>\n",
              "      <td>25</td>\n",
              "      <td>26.0</td>\n",
              "      <td>DRIVER</td>\n",
              "      <td>1.0</td>\n",
              "      <td>2017-11-06</td>\n",
              "      <td>NaT</td>\n",
              "    </tr>\n",
              "    <tr>\n",
              "      <th>3</th>\n",
              "      <td>1600</td>\n",
              "      <td>KIMILILI</td>\n",
              "      <td>BUNGOMA</td>\n",
              "      <td>BOKOLI-KIMILILI</td>\n",
              "      <td>BITUYU AREA</td>\n",
              "      <td>KBW 374M TOYOTA TOWNACE</td>\n",
              "      <td>THE VEHICLE KNOCKED DOWN THE VICTIM</td>\n",
              "      <td>UNKNOWN</td>\n",
              "      <td>M</td>\n",
              "      <td>31</td>\n",
              "      <td>7.0</td>\n",
              "      <td>PEDESTRIAN</td>\n",
              "      <td>1.0</td>\n",
              "      <td>2017-11-06</td>\n",
              "      <td>NaT</td>\n",
              "    </tr>\n",
              "    <tr>\n",
              "      <th>4</th>\n",
              "      <td>1747</td>\n",
              "      <td>NAKURU</td>\n",
              "      <td>NAKURU</td>\n",
              "      <td>PIPELINE ELEMENTAITA</td>\n",
              "      <td>PIPELINE AREA</td>\n",
              "      <td>KMDQ 433R DAYAN &amp; KAR 843W</td>\n",
              "      <td>THE VEHICLE HIT THE MOTOR CYCLE</td>\n",
              "      <td>UNKNOWN</td>\n",
              "      <td>M</td>\n",
              "      <td>23</td>\n",
              "      <td>29.0</td>\n",
              "      <td>M/CYCLIST</td>\n",
              "      <td>1.0</td>\n",
              "      <td>2017-11-06</td>\n",
              "      <td>NaT</td>\n",
              "    </tr>\n",
              "  </tbody>\n",
              "</table>\n",
              "</div>"
            ],
            "text/plain": [
              "  TIME 24 HOURS BASE/SUB BASE   COUNTY  ...  NO. Date DD/MM/YYYY Unnamed: 14\n",
              "0           745        KISUMU   KISUMU  ...  1.0      2017-11-06  2017-06-11\n",
              "1          1430         NAROK    NAROK  ...  1.0      2017-11-06         NaT\n",
              "2          1515      LONDIANI  KERICHO  ...  1.0      2017-11-06         NaT\n",
              "3          1600      KIMILILI  BUNGOMA  ...  1.0      2017-11-06         NaT\n",
              "4          1747        NAKURU   NAKURU  ...  1.0      2017-11-06         NaT\n",
              "\n",
              "[5 rows x 15 columns]"
            ]
          },
          "metadata": {
            "tags": []
          },
          "execution_count": 5
        }
      ]
    },
    {
      "cell_type": "code",
      "metadata": {
        "colab": {
          "base_uri": "https://localhost:8080/"
        },
        "id": "2jFqaxEVIFCc",
        "outputId": "1f048f32-d210-4f36-c2b0-b6d9239892bf"
      },
      "source": [
        "# Finding general information about the 2017 dataset\r\n",
        "Accidents_2017.info()"
      ],
      "execution_count": null,
      "outputs": [
        {
          "output_type": "stream",
          "text": [
            "<class 'pandas.core.frame.DataFrame'>\n",
            "RangeIndex: 740 entries, 0 to 739\n",
            "Data columns (total 15 columns):\n",
            " #   Column                  Non-Null Count  Dtype         \n",
            "---  ------                  --------------  -----         \n",
            " 0   TIME 24 HOURS           737 non-null    object        \n",
            " 1   BASE/SUB BASE           738 non-null    object        \n",
            " 2   COUNTY                  739 non-null    object        \n",
            " 3   ROAD                    737 non-null    object        \n",
            " 4   PLACE                   734 non-null    object        \n",
            " 5   MV INVOLVED             740 non-null    object        \n",
            " 6   BRIEF ACCIDENT DETAILS  740 non-null    object        \n",
            " 7   NAME OF VICTIM          740 non-null    object        \n",
            " 8   GENDER                  740 non-null    object        \n",
            " 9   AGE                     739 non-null    object        \n",
            " 10  CAUSE CODE              718 non-null    float64       \n",
            " 11  VICTIM                  740 non-null    object        \n",
            " 12  NO.                     736 non-null    float64       \n",
            " 13  Date DD/MM/YYYY         740 non-null    datetime64[ns]\n",
            " 14  Unnamed: 14             1 non-null      datetime64[ns]\n",
            "dtypes: datetime64[ns](2), float64(2), object(11)\n",
            "memory usage: 86.8+ KB\n"
          ],
          "name": "stdout"
        }
      ]
    },
    {
      "cell_type": "code",
      "metadata": {
        "colab": {
          "base_uri": "https://localhost:8080/"
        },
        "id": "i-ae5i3NI1YO",
        "outputId": "efe7fe9b-5f1f-457f-cce4-f9512ef09044"
      },
      "source": [
        "# dataset size\r\n",
        "\r\n",
        "Accidents_2017.shape"
      ],
      "execution_count": null,
      "outputs": [
        {
          "output_type": "execute_result",
          "data": {
            "text/plain": [
              "(740, 15)"
            ]
          },
          "metadata": {
            "tags": []
          },
          "execution_count": 7
        }
      ]
    },
    {
      "cell_type": "markdown",
      "metadata": {
        "id": "ykZgjBQK_R_e"
      },
      "source": [
        "### **DATA CLEANING**\r\n"
      ]
    },
    {
      "cell_type": "markdown",
      "metadata": {
        "id": "66u3pffS_ZeB"
      },
      "source": [
        "#### *A. 2011 Traffic Accidents*"
      ]
    },
    {
      "cell_type": "code",
      "metadata": {
        "colab": {
          "base_uri": "https://localhost:8080/"
        },
        "id": "ECeVbL-jYezO",
        "outputId": "1ce0ee71-e9a0-4fee-d035-b10b350b3d83"
      },
      "source": [
        "# Checking the distinct values of cause to establish whether the column\r\n",
        "# is relevant for our study\r\n",
        "\r\n",
        "Accidents_2011['Cause'].unique()"
      ],
      "execution_count": null,
      "outputs": [
        {
          "output_type": "execute_result",
          "data": {
            "text/plain": [
              "array(['Cause', 'Error', nan, 'Other cause', 'Negligence', 'Fault',\n",
              "       'Hit and Run', 'Unknown', 'Drowning', 'Rain'], dtype=object)"
            ]
          },
          "metadata": {
            "tags": []
          },
          "execution_count": 8
        }
      ]
    },
    {
      "cell_type": "code",
      "metadata": {
        "id": "MldDfSRtGW-t"
      },
      "source": [
        "# dropping columns irrelevant to the analysis.\r\n",
        "\r\n",
        "Accidents_2011.drop(['_Serial', 'Event', 'Cause', 'Code_County', 'Code_District', 'Code_Division', 'Division', 'Comments', 'Source', 'Losses_$Local', 'OBJECTID', 'Magnitude', 'GLIDEnumber', 'Missing', 'Victims', 'Affected', 'Relocated', 'Evacuated', 'Losses_$USD', 'Education_centers', 'Hospitals', 'Lost_Cattle', 'Damages_in_crops_Ha', 'Houses_Destroyed', 'Houses_Damaged', 'Other_sectors', 'DataCards'], axis=1, inplace= True)"
      ],
      "execution_count": null,
      "outputs": []
    },
    {
      "cell_type": "code",
      "metadata": {
        "id": "3gAELMqIMlb_"
      },
      "source": [
        "#drop the first row. since its a repetition of column names\r\n",
        "\r\n",
        "Accidents_2011.drop(Accidents_2011.index[0],inplace=True)"
      ],
      "execution_count": null,
      "outputs": []
    },
    {
      "cell_type": "code",
      "metadata": {
        "id": "Aat3j3atPFM-",
        "colab": {
          "base_uri": "https://localhost:8080/"
        },
        "outputId": "c4b84513-23ce-473e-ac1a-13b786791917"
      },
      "source": [
        "Accidents_2011.head()"
      ],
      "execution_count": null,
      "outputs": [
        {
          "output_type": "execute_result",
          "data": {
            "text/html": [
              "<div>\n",
              "<style scoped>\n",
              "    .dataframe tbody tr th:only-of-type {\n",
              "        vertical-align: middle;\n",
              "    }\n",
              "\n",
              "    .dataframe tbody tr th {\n",
              "        vertical-align: top;\n",
              "    }\n",
              "\n",
              "    .dataframe thead th {\n",
              "        text-align: right;\n",
              "    }\n",
              "</style>\n",
              "<table border=\"1\" class=\"dataframe\">\n",
              "  <thead>\n",
              "    <tr style=\"text-align: right;\">\n",
              "      <th></th>\n",
              "      <th>County</th>\n",
              "      <th>District</th>\n",
              "      <th>Date_YMD</th>\n",
              "      <th>Description_of_Cause</th>\n",
              "      <th>Deaths</th>\n",
              "      <th>Injured</th>\n",
              "    </tr>\n",
              "  </thead>\n",
              "  <tbody>\n",
              "    <tr>\n",
              "      <th>1</th>\n",
              "      <td>KIAMBU</td>\n",
              "      <td>KIAMBU</td>\n",
              "      <td>11/09/2011 08:00:00 AM +0000</td>\n",
              "      <td>Pedestrian crossing road</td>\n",
              "      <td>1</td>\n",
              "      <td>0</td>\n",
              "    </tr>\n",
              "    <tr>\n",
              "      <th>2</th>\n",
              "      <td>NAIROBI</td>\n",
              "      <td>NAIROBI</td>\n",
              "      <td>01/01/2011 08:00:00 AM +0000</td>\n",
              "      <td>Hit and run</td>\n",
              "      <td>1</td>\n",
              "      <td>0</td>\n",
              "    </tr>\n",
              "    <tr>\n",
              "      <th>3</th>\n",
              "      <td>KERICHO</td>\n",
              "      <td>BURET</td>\n",
              "      <td>01/01/2011 08:00:00 AM +0000</td>\n",
              "      <td>Driver lost control of the vehicle.</td>\n",
              "      <td>0</td>\n",
              "      <td>14</td>\n",
              "    </tr>\n",
              "    <tr>\n",
              "      <th>4</th>\n",
              "      <td>MAKUENI</td>\n",
              "      <td>MAKUENI</td>\n",
              "      <td>01/30/2011 08:00:00 AM +0000</td>\n",
              "      <td>Recklessness</td>\n",
              "      <td>0</td>\n",
              "      <td>1</td>\n",
              "    </tr>\n",
              "    <tr>\n",
              "      <th>5</th>\n",
              "      <td>LAIKIPIA</td>\n",
              "      <td>LAIKIPIA WEST</td>\n",
              "      <td>01/01/2011 08:00:00 AM +0000</td>\n",
              "      <td>Pedal cyclist was knocked down.</td>\n",
              "      <td>1</td>\n",
              "      <td>0</td>\n",
              "    </tr>\n",
              "  </tbody>\n",
              "</table>\n",
              "</div>"
            ],
            "text/plain": [
              "     County       District  ... Deaths Injured\n",
              "1    KIAMBU         KIAMBU  ...      1       0\n",
              "2   NAIROBI        NAIROBI  ...      1       0\n",
              "3   KERICHO          BURET  ...      0      14\n",
              "4   MAKUENI        MAKUENI  ...      0       1\n",
              "5  LAIKIPIA  LAIKIPIA WEST  ...      1       0\n",
              "\n",
              "[5 rows x 6 columns]"
            ]
          },
          "metadata": {
            "tags": []
          },
          "execution_count": 11
        }
      ]
    },
    {
      "cell_type": "code",
      "metadata": {
        "id": "tThgP3gwU3PD"
      },
      "source": [
        "#convert some columns to integer datatypes\r\n",
        "Accidents_2011['Deaths'] = Accidents_2011['Deaths'].astype(int) \r\n",
        "Accidents_2011['Injured'] = Accidents_2011['Injured'].astype(int)"
      ],
      "execution_count": null,
      "outputs": []
    },
    {
      "cell_type": "code",
      "metadata": {
        "colab": {
          "base_uri": "https://localhost:8080/"
        },
        "id": "4d7JL_MFTvlV",
        "outputId": "6e3db127-ad93-449a-fc04-29d53c6c06a1"
      },
      "source": [
        "# Construct new column to calculate the total number of victims.\r\n",
        "\r\n",
        "Accidents_2011['Tot_Victims']= Accidents_2011['Deaths'] + Accidents_2011['Injured']\r\n",
        "Accidents_2011.head()"
      ],
      "execution_count": null,
      "outputs": [
        {
          "output_type": "execute_result",
          "data": {
            "text/html": [
              "<div>\n",
              "<style scoped>\n",
              "    .dataframe tbody tr th:only-of-type {\n",
              "        vertical-align: middle;\n",
              "    }\n",
              "\n",
              "    .dataframe tbody tr th {\n",
              "        vertical-align: top;\n",
              "    }\n",
              "\n",
              "    .dataframe thead th {\n",
              "        text-align: right;\n",
              "    }\n",
              "</style>\n",
              "<table border=\"1\" class=\"dataframe\">\n",
              "  <thead>\n",
              "    <tr style=\"text-align: right;\">\n",
              "      <th></th>\n",
              "      <th>County</th>\n",
              "      <th>District</th>\n",
              "      <th>Date_YMD</th>\n",
              "      <th>Description_of_Cause</th>\n",
              "      <th>Deaths</th>\n",
              "      <th>Injured</th>\n",
              "      <th>Tot_Victims</th>\n",
              "    </tr>\n",
              "  </thead>\n",
              "  <tbody>\n",
              "    <tr>\n",
              "      <th>1</th>\n",
              "      <td>KIAMBU</td>\n",
              "      <td>KIAMBU</td>\n",
              "      <td>11/09/2011 08:00:00 AM +0000</td>\n",
              "      <td>Pedestrian crossing road</td>\n",
              "      <td>1</td>\n",
              "      <td>0</td>\n",
              "      <td>1</td>\n",
              "    </tr>\n",
              "    <tr>\n",
              "      <th>2</th>\n",
              "      <td>NAIROBI</td>\n",
              "      <td>NAIROBI</td>\n",
              "      <td>01/01/2011 08:00:00 AM +0000</td>\n",
              "      <td>Hit and run</td>\n",
              "      <td>1</td>\n",
              "      <td>0</td>\n",
              "      <td>1</td>\n",
              "    </tr>\n",
              "    <tr>\n",
              "      <th>3</th>\n",
              "      <td>KERICHO</td>\n",
              "      <td>BURET</td>\n",
              "      <td>01/01/2011 08:00:00 AM +0000</td>\n",
              "      <td>Driver lost control of the vehicle.</td>\n",
              "      <td>0</td>\n",
              "      <td>14</td>\n",
              "      <td>14</td>\n",
              "    </tr>\n",
              "    <tr>\n",
              "      <th>4</th>\n",
              "      <td>MAKUENI</td>\n",
              "      <td>MAKUENI</td>\n",
              "      <td>01/30/2011 08:00:00 AM +0000</td>\n",
              "      <td>Recklessness</td>\n",
              "      <td>0</td>\n",
              "      <td>1</td>\n",
              "      <td>1</td>\n",
              "    </tr>\n",
              "    <tr>\n",
              "      <th>5</th>\n",
              "      <td>LAIKIPIA</td>\n",
              "      <td>LAIKIPIA WEST</td>\n",
              "      <td>01/01/2011 08:00:00 AM +0000</td>\n",
              "      <td>Pedal cyclist was knocked down.</td>\n",
              "      <td>1</td>\n",
              "      <td>0</td>\n",
              "      <td>1</td>\n",
              "    </tr>\n",
              "  </tbody>\n",
              "</table>\n",
              "</div>"
            ],
            "text/plain": [
              "     County       District  ... Injured Tot_Victims\n",
              "1    KIAMBU         KIAMBU  ...       0           1\n",
              "2   NAIROBI        NAIROBI  ...       0           1\n",
              "3   KERICHO          BURET  ...      14          14\n",
              "4   MAKUENI        MAKUENI  ...       1           1\n",
              "5  LAIKIPIA  LAIKIPIA WEST  ...       0           1\n",
              "\n",
              "[5 rows x 7 columns]"
            ]
          },
          "metadata": {
            "tags": []
          },
          "execution_count": 13
        }
      ]
    },
    {
      "cell_type": "code",
      "metadata": {
        "colab": {
          "base_uri": "https://localhost:8080/"
        },
        "id": "dsyJqx8FSN_M",
        "outputId": "832c8700-aa24-4fd4-fa29-46c888cdf6b4"
      },
      "source": [
        "# Checking for null values\r\n",
        "\r\n",
        "Accidents_2011.isnull().sum()"
      ],
      "execution_count": null,
      "outputs": [
        {
          "output_type": "execute_result",
          "data": {
            "text/plain": [
              "County                    0\n",
              "District                  8\n",
              "Date_YMD                  0\n",
              "Description_of_Cause    105\n",
              "Deaths                    0\n",
              "Injured                   0\n",
              "Tot_Victims               0\n",
              "dtype: int64"
            ]
          },
          "metadata": {
            "tags": []
          },
          "execution_count": 14
        }
      ]
    },
    {
      "cell_type": "code",
      "metadata": {
        "id": "1ni71U-JXHYn"
      },
      "source": [
        "# Filling null values in District.\r\n",
        "\r\n",
        "Accidents_2011['District'].fillna('Unnamed', inplace= True)"
      ],
      "execution_count": null,
      "outputs": []
    },
    {
      "cell_type": "code",
      "metadata": {
        "id": "IQQmSG2zYBLL"
      },
      "source": [
        "# Filling null values in Cause Description\r\n",
        "\r\n",
        "Accidents_2011['Description_of_Cause'].fillna('Unspecified', inplace= True)"
      ],
      "execution_count": null,
      "outputs": []
    },
    {
      "cell_type": "code",
      "metadata": {
        "colab": {
          "base_uri": "https://localhost:8080/"
        },
        "id": "W0yaxBR6aNJp",
        "outputId": "56c82818-9bbe-466a-e5a8-5354a47a9ce1"
      },
      "source": [
        "# Checking for null values after filling null values\r\n",
        "Accidents_2011.isnull().sum()"
      ],
      "execution_count": null,
      "outputs": [
        {
          "output_type": "execute_result",
          "data": {
            "text/plain": [
              "County                  0\n",
              "District                0\n",
              "Date_YMD                0\n",
              "Description_of_Cause    0\n",
              "Deaths                  0\n",
              "Injured                 0\n",
              "Tot_Victims             0\n",
              "dtype: int64"
            ]
          },
          "metadata": {
            "tags": []
          },
          "execution_count": 17
        }
      ]
    },
    {
      "cell_type": "code",
      "metadata": {
        "colab": {
          "base_uri": "https://localhost:8080/"
        },
        "id": "BAa43LoUb8jD",
        "outputId": "b7467003-e684-4334-83a9-247d7c2832d9"
      },
      "source": [
        "Accidents_2011.shape"
      ],
      "execution_count": null,
      "outputs": [
        {
          "output_type": "execute_result",
          "data": {
            "text/plain": [
              "(1354, 7)"
            ]
          },
          "metadata": {
            "tags": []
          },
          "execution_count": 18
        }
      ]
    },
    {
      "cell_type": "code",
      "metadata": {
        "colab": {
          "base_uri": "https://localhost:8080/"
        },
        "id": "U6ojzYW6bFJV",
        "outputId": "19915826-33d0-43d7-e590-6ff93db63846"
      },
      "source": [
        "# Checking for duplicates\r\n",
        "\r\n",
        "Accidents_2011.duplicated()\r\n"
      ],
      "execution_count": null,
      "outputs": [
        {
          "output_type": "execute_result",
          "data": {
            "text/plain": [
              "1       False\n",
              "2       False\n",
              "3       False\n",
              "4       False\n",
              "5       False\n",
              "        ...  \n",
              "1350    False\n",
              "1351    False\n",
              "1352    False\n",
              "1353    False\n",
              "1354    False\n",
              "Length: 1354, dtype: bool"
            ]
          },
          "metadata": {
            "tags": []
          },
          "execution_count": 19
        }
      ]
    },
    {
      "cell_type": "code",
      "metadata": {
        "id": "3iY2Wd2HdDFh",
        "colab": {
          "base_uri": "https://localhost:8080/"
        },
        "outputId": "7c63de3b-412e-4760-cda4-5a352a499507"
      },
      "source": [
        "# Checking the total number of duplicates\r\n",
        "\r\n",
        "Accidents_2011.duplicated().sum()"
      ],
      "execution_count": null,
      "outputs": [
        {
          "output_type": "execute_result",
          "data": {
            "text/plain": [
              "24"
            ]
          },
          "metadata": {
            "tags": []
          },
          "execution_count": 20
        }
      ]
    },
    {
      "cell_type": "code",
      "metadata": {
        "colab": {
          "base_uri": "https://localhost:8080/"
        },
        "id": "A5rGiRyuco8U",
        "outputId": "09878dd8-ad0b-4d00-9cd6-59e8bea7a409"
      },
      "source": [
        "# Dropping the duplicates\r\n",
        "\r\n",
        "Accidents_2011 = Accidents_2011.drop_duplicates()\r\n",
        "Accidents_2011.shape"
      ],
      "execution_count": null,
      "outputs": [
        {
          "output_type": "execute_result",
          "data": {
            "text/plain": [
              "(1330, 7)"
            ]
          },
          "metadata": {
            "tags": []
          },
          "execution_count": 21
        }
      ]
    },
    {
      "cell_type": "code",
      "metadata": {
        "id": "k9V5poH4PTyy",
        "colab": {
          "base_uri": "https://localhost:8080/"
        },
        "outputId": "2bbdba60-c979-47a1-a6f3-0fd647da7090"
      },
      "source": [
        "# create a function that removes white spaces, standardizes the case of string values,\r\n",
        "# replaces double spaces with single space, removes periods and replaces '&' with 'and'\r\n",
        "\r\n",
        "def clean_records(x):\r\n",
        "  if isinstance(x, str):\r\n",
        "    return x.strip().capitalize().replace('  ', ' ').replace('&', 'and').replace('.', '')\r\n",
        "  else:\r\n",
        "    return x\r\n",
        "\r\n",
        "#apply the function to the dataframe and assign dataframe to new variable\r\n",
        "Accidents_2011 = Accidents_2011.applymap(clean_records)\r\n",
        "\r\n",
        "#display a few records to see changes\r\n",
        "Accidents_2011"
      ],
      "execution_count": null,
      "outputs": [
        {
          "output_type": "execute_result",
          "data": {
            "text/html": [
              "<div>\n",
              "<style scoped>\n",
              "    .dataframe tbody tr th:only-of-type {\n",
              "        vertical-align: middle;\n",
              "    }\n",
              "\n",
              "    .dataframe tbody tr th {\n",
              "        vertical-align: top;\n",
              "    }\n",
              "\n",
              "    .dataframe thead th {\n",
              "        text-align: right;\n",
              "    }\n",
              "</style>\n",
              "<table border=\"1\" class=\"dataframe\">\n",
              "  <thead>\n",
              "    <tr style=\"text-align: right;\">\n",
              "      <th></th>\n",
              "      <th>County</th>\n",
              "      <th>District</th>\n",
              "      <th>Date_YMD</th>\n",
              "      <th>Description_of_Cause</th>\n",
              "      <th>Deaths</th>\n",
              "      <th>Injured</th>\n",
              "      <th>Tot_Victims</th>\n",
              "    </tr>\n",
              "  </thead>\n",
              "  <tbody>\n",
              "    <tr>\n",
              "      <th>1</th>\n",
              "      <td>Kiambu</td>\n",
              "      <td>Kiambu</td>\n",
              "      <td>11/09/2011 08:00:00 am +0000</td>\n",
              "      <td>Pedestrian crossing road</td>\n",
              "      <td>1</td>\n",
              "      <td>0</td>\n",
              "      <td>1</td>\n",
              "    </tr>\n",
              "    <tr>\n",
              "      <th>2</th>\n",
              "      <td>Nairobi</td>\n",
              "      <td>Nairobi</td>\n",
              "      <td>01/01/2011 08:00:00 am +0000</td>\n",
              "      <td>Hit and run</td>\n",
              "      <td>1</td>\n",
              "      <td>0</td>\n",
              "      <td>1</td>\n",
              "    </tr>\n",
              "    <tr>\n",
              "      <th>3</th>\n",
              "      <td>Kericho</td>\n",
              "      <td>Buret</td>\n",
              "      <td>01/01/2011 08:00:00 am +0000</td>\n",
              "      <td>Driver lost control of the vehicle</td>\n",
              "      <td>0</td>\n",
              "      <td>14</td>\n",
              "      <td>14</td>\n",
              "    </tr>\n",
              "    <tr>\n",
              "      <th>4</th>\n",
              "      <td>Makueni</td>\n",
              "      <td>Makueni</td>\n",
              "      <td>01/30/2011 08:00:00 am +0000</td>\n",
              "      <td>Recklessness</td>\n",
              "      <td>0</td>\n",
              "      <td>1</td>\n",
              "      <td>1</td>\n",
              "    </tr>\n",
              "    <tr>\n",
              "      <th>5</th>\n",
              "      <td>Laikipia</td>\n",
              "      <td>Laikipia west</td>\n",
              "      <td>01/01/2011 08:00:00 am +0000</td>\n",
              "      <td>Pedal cyclist was knocked down</td>\n",
              "      <td>1</td>\n",
              "      <td>0</td>\n",
              "      <td>1</td>\n",
              "    </tr>\n",
              "    <tr>\n",
              "      <th>...</th>\n",
              "      <td>...</td>\n",
              "      <td>...</td>\n",
              "      <td>...</td>\n",
              "      <td>...</td>\n",
              "      <td>...</td>\n",
              "      <td>...</td>\n",
              "      <td>...</td>\n",
              "    </tr>\n",
              "    <tr>\n",
              "      <th>1350</th>\n",
              "      <td>Marsabit</td>\n",
              "      <td>Marsabit</td>\n",
              "      <td>12/21/2011 08:00:00 am +0000</td>\n",
              "      <td>M/vehicle lost control</td>\n",
              "      <td>2</td>\n",
              "      <td>8</td>\n",
              "      <td>10</td>\n",
              "    </tr>\n",
              "    <tr>\n",
              "      <th>1351</th>\n",
              "      <td>Nyamira</td>\n",
              "      <td>Nyamira</td>\n",
              "      <td>12/21/2011 08:00:00 am +0000</td>\n",
              "      <td>Motor vehicle knocked down a pedestrian</td>\n",
              "      <td>1</td>\n",
              "      <td>0</td>\n",
              "      <td>1</td>\n",
              "    </tr>\n",
              "    <tr>\n",
              "      <th>1352</th>\n",
              "      <td>Kisii</td>\n",
              "      <td>Central kisii</td>\n",
              "      <td>12/21/2011 08:00:00 am +0000</td>\n",
              "      <td>Motor vehicle knocked down a pedestrian</td>\n",
              "      <td>1</td>\n",
              "      <td>0</td>\n",
              "      <td>1</td>\n",
              "    </tr>\n",
              "    <tr>\n",
              "      <th>1353</th>\n",
              "      <td>Kericho</td>\n",
              "      <td>Buret</td>\n",
              "      <td>12/21/2011 08:00:00 am +0000</td>\n",
              "      <td>Unspecified</td>\n",
              "      <td>1</td>\n",
              "      <td>0</td>\n",
              "      <td>1</td>\n",
              "    </tr>\n",
              "    <tr>\n",
              "      <th>1354</th>\n",
              "      <td>Nakuru</td>\n",
              "      <td>Nakuru</td>\n",
              "      <td>12/21/2011 08:00:00 am +0000</td>\n",
              "      <td>A lorry driver hit a tree</td>\n",
              "      <td>1</td>\n",
              "      <td>0</td>\n",
              "      <td>1</td>\n",
              "    </tr>\n",
              "  </tbody>\n",
              "</table>\n",
              "<p>1330 rows × 7 columns</p>\n",
              "</div>"
            ],
            "text/plain": [
              "        County       District  ... Injured Tot_Victims\n",
              "1       Kiambu         Kiambu  ...       0           1\n",
              "2      Nairobi        Nairobi  ...       0           1\n",
              "3      Kericho          Buret  ...      14          14\n",
              "4      Makueni        Makueni  ...       1           1\n",
              "5     Laikipia  Laikipia west  ...       0           1\n",
              "...        ...            ...  ...     ...         ...\n",
              "1350  Marsabit       Marsabit  ...       8          10\n",
              "1351   Nyamira        Nyamira  ...       0           1\n",
              "1352     Kisii  Central kisii  ...       0           1\n",
              "1353   Kericho          Buret  ...       0           1\n",
              "1354    Nakuru         Nakuru  ...       0           1\n",
              "\n",
              "[1330 rows x 7 columns]"
            ]
          },
          "metadata": {
            "tags": []
          },
          "execution_count": 22
        }
      ]
    },
    {
      "cell_type": "code",
      "metadata": {
        "colab": {
          "base_uri": "https://localhost:8080/"
        },
        "id": "hcV7JmYfTMld",
        "outputId": "51a0d676-6213-4561-fefd-8e3ee1917f96"
      },
      "source": [
        "#change date column datatype to a datetime format \r\n",
        "Accidents_2011['Date_YMD'] = pd.to_datetime(Accidents_2011['Date_YMD'])\r\n",
        "Accidents_2011 = Accidents_2011.sort_values(by = 'Date_YMD', ascending = True)\r\n",
        "Accidents_2011['Date_YMD'] = pd.to_datetime(Accidents_2011.Date_YMD).dt.tz_localize(None)\r\n",
        "Accidents_2011.head()"
      ],
      "execution_count": null,
      "outputs": [
        {
          "output_type": "execute_result",
          "data": {
            "text/html": [
              "<div>\n",
              "<style scoped>\n",
              "    .dataframe tbody tr th:only-of-type {\n",
              "        vertical-align: middle;\n",
              "    }\n",
              "\n",
              "    .dataframe tbody tr th {\n",
              "        vertical-align: top;\n",
              "    }\n",
              "\n",
              "    .dataframe thead th {\n",
              "        text-align: right;\n",
              "    }\n",
              "</style>\n",
              "<table border=\"1\" class=\"dataframe\">\n",
              "  <thead>\n",
              "    <tr style=\"text-align: right;\">\n",
              "      <th></th>\n",
              "      <th>County</th>\n",
              "      <th>District</th>\n",
              "      <th>Date_YMD</th>\n",
              "      <th>Description_of_Cause</th>\n",
              "      <th>Deaths</th>\n",
              "      <th>Injured</th>\n",
              "      <th>Tot_Victims</th>\n",
              "    </tr>\n",
              "  </thead>\n",
              "  <tbody>\n",
              "    <tr>\n",
              "      <th>2</th>\n",
              "      <td>Nairobi</td>\n",
              "      <td>Nairobi</td>\n",
              "      <td>2011-01-01 08:00:00</td>\n",
              "      <td>Hit and run</td>\n",
              "      <td>1</td>\n",
              "      <td>0</td>\n",
              "      <td>1</td>\n",
              "    </tr>\n",
              "    <tr>\n",
              "      <th>3</th>\n",
              "      <td>Kericho</td>\n",
              "      <td>Buret</td>\n",
              "      <td>2011-01-01 08:00:00</td>\n",
              "      <td>Driver lost control of the vehicle</td>\n",
              "      <td>0</td>\n",
              "      <td>14</td>\n",
              "      <td>14</td>\n",
              "    </tr>\n",
              "    <tr>\n",
              "      <th>5</th>\n",
              "      <td>Laikipia</td>\n",
              "      <td>Laikipia west</td>\n",
              "      <td>2011-01-01 08:00:00</td>\n",
              "      <td>Pedal cyclist was knocked down</td>\n",
              "      <td>1</td>\n",
              "      <td>0</td>\n",
              "      <td>1</td>\n",
              "    </tr>\n",
              "    <tr>\n",
              "      <th>7</th>\n",
              "      <td>Nakuru</td>\n",
              "      <td>Nakuru</td>\n",
              "      <td>2011-01-01 08:00:00</td>\n",
              "      <td>Hit and run by a motor cycle</td>\n",
              "      <td>1</td>\n",
              "      <td>0</td>\n",
              "      <td>1</td>\n",
              "    </tr>\n",
              "    <tr>\n",
              "      <th>9</th>\n",
              "      <td>Kitui</td>\n",
              "      <td>Kitui</td>\n",
              "      <td>2011-01-01 08:00:00</td>\n",
              "      <td>Driver lost control of the vehicle</td>\n",
              "      <td>1</td>\n",
              "      <td>0</td>\n",
              "      <td>1</td>\n",
              "    </tr>\n",
              "  </tbody>\n",
              "</table>\n",
              "</div>"
            ],
            "text/plain": [
              "     County       District            Date_YMD  ... Deaths  Injured  Tot_Victims\n",
              "2   Nairobi        Nairobi 2011-01-01 08:00:00  ...      1        0            1\n",
              "3   Kericho          Buret 2011-01-01 08:00:00  ...      0       14           14\n",
              "5  Laikipia  Laikipia west 2011-01-01 08:00:00  ...      1        0            1\n",
              "7    Nakuru         Nakuru 2011-01-01 08:00:00  ...      1        0            1\n",
              "9     Kitui          Kitui 2011-01-01 08:00:00  ...      1        0            1\n",
              "\n",
              "[5 rows x 7 columns]"
            ]
          },
          "metadata": {
            "tags": []
          },
          "execution_count": 23
        }
      ]
    },
    {
      "cell_type": "code",
      "metadata": {
        "id": "HRcJ6YFD2b0F"
      },
      "source": [
        "Accidents_2011.rename(columns={'DATE_YMD' : 'DATE'}, inplace= True)"
      ],
      "execution_count": null,
      "outputs": []
    },
    {
      "cell_type": "code",
      "metadata": {
        "id": "1FruGXcxd2O4",
        "colab": {
          "base_uri": "https://localhost:8080/"
        },
        "outputId": "1a6012ae-7c2f-4e14-a1f1-662ee29cabac"
      },
      "source": [
        "#Standardize the column names by removing white spaces using strip()function, lowering the cases using lower() function,\r\n",
        "#replacing spaces with underscore and removing brackets using replace() function\r\n",
        "Accidents_2011.columns = Accidents_2011.columns.str.strip().str.upper().str.replace(' ', '_')\r\n",
        "\r\n",
        "#display the standardized column names  \r\n",
        "Accidents_2011.columns"
      ],
      "execution_count": null,
      "outputs": [
        {
          "output_type": "execute_result",
          "data": {
            "text/plain": [
              "Index(['COUNTY', 'DISTRICT', 'DATE_YMD', 'DESCRIPTION_OF_CAUSE', 'DEATHS',\n",
              "       'INJURED', 'TOT_VICTIMS'],\n",
              "      dtype='object')"
            ]
          },
          "metadata": {
            "tags": []
          },
          "execution_count": 25
        }
      ]
    },
    {
      "cell_type": "code",
      "metadata": {
        "colab": {
          "base_uri": "https://localhost:8080/"
        },
        "id": "mw3BXFxShgPy",
        "outputId": "3a3cf15c-aaaa-4e33-dc5f-445e22f85c85"
      },
      "source": [
        "# Creating a box plot of the total number of victims\r\n",
        "Accidents_2011.boxplot(column =['TOT_VICTIMS'], grid = False) "
      ],
      "execution_count": null,
      "outputs": [
        {
          "output_type": "execute_result",
          "data": {
            "text/plain": [
              "<matplotlib.axes._subplots.AxesSubplot at 0x7fc78c7e7320>"
            ]
          },
          "metadata": {
            "tags": []
          },
          "execution_count": 26
        },
        {
          "output_type": "display_data",
          "data": {
            "image/png": "[encoded data removed]",
            "text/plain": [
              "<Figure size 432x288 with 1 Axes>"
            ]
          },
          "metadata": {
            "tags": [],
            "needs_background": "light"
          }
        }
      ]
    },
    {
      "cell_type": "markdown",
      "metadata": {
        "id": "ZWEBhKw6iNTW"
      },
      "source": [
        "The outliers in the dataset are integral to the analysis, therefore we will not remove them from the dataset"
      ]
    },
    {
      "cell_type": "markdown",
      "metadata": {
        "id": "1c0-gjmy_i7b"
      },
      "source": [
        "#### *B. 2017 Traffic Accidents* "
      ]
    },
    {
      "cell_type": "code",
      "metadata": {
        "id": "KJ6pWkblnY18",
        "colab": {
          "base_uri": "https://localhost:8080/"
        },
        "outputId": "3e040e09-d8fc-4f4d-9591-096e30b213ef"
      },
      "source": [
        "# Checking for duplicates in MV Involved\r\n",
        "\r\n",
        "Accidents_2017['MV INVOLVED'].duplicated().sum()\r\n"
      ],
      "execution_count": null,
      "outputs": [
        {
          "output_type": "execute_result",
          "data": {
            "text/plain": [
              "79"
            ]
          },
          "metadata": {
            "tags": []
          },
          "execution_count": 27
        }
      ]
    },
    {
      "cell_type": "code",
      "metadata": {
        "id": "BZavaQqMpoRf"
      },
      "source": [
        "# Dropping the duplicate rows\r\n",
        "\r\n",
        "Accidents_2017.drop_duplicates(subset='MV INVOLVED', inplace= True)"
      ],
      "execution_count": null,
      "outputs": []
    },
    {
      "cell_type": "code",
      "metadata": {
        "colab": {
          "base_uri": "https://localhost:8080/"
        },
        "id": "2bHwZ3JrrmPk",
        "outputId": "4654cc8a-97f0-4658-c8a2-e4190f5d8658"
      },
      "source": [
        "Accidents_2017.shape"
      ],
      "execution_count": null,
      "outputs": [
        {
          "output_type": "execute_result",
          "data": {
            "text/plain": [
              "(661, 15)"
            ]
          },
          "metadata": {
            "tags": []
          },
          "execution_count": 29
        }
      ]
    },
    {
      "cell_type": "code",
      "metadata": {
        "colab": {
          "base_uri": "https://localhost:8080/"
        },
        "id": "SyX-X_VbsRda",
        "outputId": "d01cbde7-cc50-434b-d195-2f33ec1f0d5a"
      },
      "source": [
        "# Finding duplicates in the whole dataset\r\n",
        "\r\n",
        "Accidents_2017.duplicated().sum()"
      ],
      "execution_count": null,
      "outputs": [
        {
          "output_type": "execute_result",
          "data": {
            "text/plain": [
              "0"
            ]
          },
          "metadata": {
            "tags": []
          },
          "execution_count": 30
        }
      ]
    },
    {
      "cell_type": "code",
      "metadata": {
        "id": "kMYC4n4ss5jy"
      },
      "source": [
        "# Dropping irrelevant columns\r\n",
        "\r\n",
        "Accidents_2017.drop(['MV INVOLVED' , 'Unnamed: 14', 'BASE/SUB BASE', 'VICTIM', 'TIME 24 HOURS', 'PLACE', 'NAME OF VICTIM', 'GENDER', 'AGE', 'CAUSE CODE'], axis=1, inplace= True)"
      ],
      "execution_count": null,
      "outputs": []
    },
    {
      "cell_type": "code",
      "metadata": {
        "colab": {
          "base_uri": "https://localhost:8080/"
        },
        "id": "IyUiE4-tvkyu",
        "outputId": "0695ac3e-b5e7-4141-f577-54399286f45b"
      },
      "source": [
        "Accidents_2017"
      ],
      "execution_count": null,
      "outputs": [
        {
          "output_type": "execute_result",
          "data": {
            "text/html": [
              "<div>\n",
              "<style scoped>\n",
              "    .dataframe tbody tr th:only-of-type {\n",
              "        vertical-align: middle;\n",
              "    }\n",
              "\n",
              "    .dataframe tbody tr th {\n",
              "        vertical-align: top;\n",
              "    }\n",
              "\n",
              "    .dataframe thead th {\n",
              "        text-align: right;\n",
              "    }\n",
              "</style>\n",
              "<table border=\"1\" class=\"dataframe\">\n",
              "  <thead>\n",
              "    <tr style=\"text-align: right;\">\n",
              "      <th></th>\n",
              "      <th>COUNTY</th>\n",
              "      <th>ROAD</th>\n",
              "      <th>BRIEF ACCIDENT DETAILS</th>\n",
              "      <th>NO.</th>\n",
              "      <th>Date DD/MM/YYYY</th>\n",
              "    </tr>\n",
              "  </thead>\n",
              "  <tbody>\n",
              "    <tr>\n",
              "      <th>0</th>\n",
              "      <td>KISUMU</td>\n",
              "      <td>NAIROBI-BUSIA</td>\n",
              "      <td>THE VEHICLE LOST CONTROL AND HIT BARRIER LANDI...</td>\n",
              "      <td>1.0</td>\n",
              "      <td>2017-11-06</td>\n",
              "    </tr>\n",
              "    <tr>\n",
              "      <th>1</th>\n",
              "      <td>NAROK</td>\n",
              "      <td>NAROK-MAU</td>\n",
              "      <td>THE VEHICLE KNOCKED DOWN THE VICTIM</td>\n",
              "      <td>1.0</td>\n",
              "      <td>2017-11-06</td>\n",
              "    </tr>\n",
              "    <tr>\n",
              "      <th>2</th>\n",
              "      <td>KERICHO</td>\n",
              "      <td>KERICHO-NAKURU</td>\n",
              "      <td>THE VEHICLE LOST CONTROL,VEERING OFF THE ROAD ...</td>\n",
              "      <td>1.0</td>\n",
              "      <td>2017-11-06</td>\n",
              "    </tr>\n",
              "    <tr>\n",
              "      <th>3</th>\n",
              "      <td>BUNGOMA</td>\n",
              "      <td>BOKOLI-KIMILILI</td>\n",
              "      <td>THE VEHICLE KNOCKED DOWN THE VICTIM</td>\n",
              "      <td>1.0</td>\n",
              "      <td>2017-11-06</td>\n",
              "    </tr>\n",
              "    <tr>\n",
              "      <th>4</th>\n",
              "      <td>NAKURU</td>\n",
              "      <td>PIPELINE ELEMENTAITA</td>\n",
              "      <td>THE VEHICLE HIT THE MOTOR CYCLE</td>\n",
              "      <td>1.0</td>\n",
              "      <td>2017-11-06</td>\n",
              "    </tr>\n",
              "    <tr>\n",
              "      <th>...</th>\n",
              "      <td>...</td>\n",
              "      <td>...</td>\n",
              "      <td>...</td>\n",
              "      <td>...</td>\n",
              "      <td>...</td>\n",
              "    </tr>\n",
              "    <tr>\n",
              "      <th>735</th>\n",
              "      <td>MIGORI</td>\n",
              "      <td>NTIMARU-KEHANCHA</td>\n",
              "      <td>THE VEHICLE KNOCKED DOWN A PEDESTRIAN</td>\n",
              "      <td>1.0</td>\n",
              "      <td>2017-02-22</td>\n",
              "    </tr>\n",
              "    <tr>\n",
              "      <th>736</th>\n",
              "      <td>KIRINYAGA</td>\n",
              "      <td>KENOL-MAKUTANO</td>\n",
              "      <td>THE CYCLE HIT THE STATIONARY VEHICLE</td>\n",
              "      <td>2.0</td>\n",
              "      <td>2017-02-22</td>\n",
              "    </tr>\n",
              "    <tr>\n",
              "      <th>737</th>\n",
              "      <td>NAIROBI</td>\n",
              "      <td>THIKA RD</td>\n",
              "      <td>THE VEHICLE KNOCKED DOWN A PEDESTIRAN</td>\n",
              "      <td>1.0</td>\n",
              "      <td>2017-02-22</td>\n",
              "    </tr>\n",
              "    <tr>\n",
              "      <th>738</th>\n",
              "      <td>MAKUENI</td>\n",
              "      <td>NAIROBI-KANGUNDO</td>\n",
              "      <td>THE VEHICLE COLLIDED HEAD ON WITH THE M/CYCLE</td>\n",
              "      <td>1.0</td>\n",
              "      <td>2017-02-22</td>\n",
              "    </tr>\n",
              "    <tr>\n",
              "      <th>739</th>\n",
              "      <td>NAIROBI</td>\n",
              "      <td>WAIYAKI WAY</td>\n",
              "      <td>THE VEHICLE KNOCKED DOWN A PEDESTRIAN</td>\n",
              "      <td>1.0</td>\n",
              "      <td>2017-02-22</td>\n",
              "    </tr>\n",
              "  </tbody>\n",
              "</table>\n",
              "<p>661 rows × 5 columns</p>\n",
              "</div>"
            ],
            "text/plain": [
              "        COUNTY                  ROAD  ...  NO.  Date DD/MM/YYYY\n",
              "0       KISUMU         NAIROBI-BUSIA  ...  1.0       2017-11-06\n",
              "1        NAROK             NAROK-MAU  ...  1.0       2017-11-06\n",
              "2      KERICHO        KERICHO-NAKURU  ...  1.0       2017-11-06\n",
              "3      BUNGOMA       BOKOLI-KIMILILI  ...  1.0       2017-11-06\n",
              "4       NAKURU  PIPELINE ELEMENTAITA  ...  1.0       2017-11-06\n",
              "..         ...                   ...  ...  ...              ...\n",
              "735     MIGORI      NTIMARU-KEHANCHA  ...  1.0       2017-02-22\n",
              "736  KIRINYAGA        KENOL-MAKUTANO  ...  2.0       2017-02-22\n",
              "737    NAIROBI              THIKA RD  ...  1.0       2017-02-22\n",
              "738    MAKUENI      NAIROBI-KANGUNDO  ...  1.0       2017-02-22\n",
              "739    NAIROBI           WAIYAKI WAY  ...  1.0       2017-02-22\n",
              "\n",
              "[661 rows x 5 columns]"
            ]
          },
          "metadata": {
            "tags": []
          },
          "execution_count": 32
        }
      ]
    },
    {
      "cell_type": "code",
      "metadata": {
        "colab": {
          "base_uri": "https://localhost:8080/"
        },
        "id": "f2dkAV3GwjHK",
        "outputId": "b35a3905-cbe3-4f9c-dcc0-ab48528e9ccb"
      },
      "source": [
        "# Finding Null values\r\n",
        "\r\n",
        "Accidents_2017.isnull().sum()"
      ],
      "execution_count": null,
      "outputs": [
        {
          "output_type": "execute_result",
          "data": {
            "text/plain": [
              "COUNTY                    1\n",
              "ROAD                      3\n",
              "BRIEF ACCIDENT DETAILS    0\n",
              "NO.                       4\n",
              "Date DD/MM/YYYY           0\n",
              "dtype: int64"
            ]
          },
          "metadata": {
            "tags": []
          },
          "execution_count": 33
        }
      ]
    },
    {
      "cell_type": "code",
      "metadata": {
        "id": "7KKogrOrw5CJ"
      },
      "source": [
        "# Filling null values in Road Column\r\n",
        "\r\n",
        "Accidents_2017['ROAD'].fillna('Unspecified', inplace= True)"
      ],
      "execution_count": null,
      "outputs": []
    },
    {
      "cell_type": "code",
      "metadata": {
        "id": "YqVCD_9txHgV"
      },
      "source": [
        "# Filling null values in NO. column\r\n",
        "\r\n",
        "Accidents_2017['NO.'].fillna(0, inplace= True)"
      ],
      "execution_count": null,
      "outputs": []
    },
    {
      "cell_type": "code",
      "metadata": {
        "id": "5iF0Zv7DzMRW"
      },
      "source": [
        "# Filling null values in County column\r\n",
        "\r\n",
        "Accidents_2017['COUNTY'].fillna('Unnamed', inplace= True)"
      ],
      "execution_count": null,
      "outputs": []
    },
    {
      "cell_type": "code",
      "metadata": {
        "colab": {
          "base_uri": "https://localhost:8080/"
        },
        "id": "uexsAin9zhK5",
        "outputId": "37c176d8-3bd3-422a-bb0c-4a4a7039d06c"
      },
      "source": [
        "Accidents_2017.isnull().sum()"
      ],
      "execution_count": null,
      "outputs": [
        {
          "output_type": "execute_result",
          "data": {
            "text/plain": [
              "COUNTY                    0\n",
              "ROAD                      0\n",
              "BRIEF ACCIDENT DETAILS    0\n",
              "NO.                       0\n",
              "Date DD/MM/YYYY           0\n",
              "dtype: int64"
            ]
          },
          "metadata": {
            "tags": []
          },
          "execution_count": 37
        }
      ]
    },
    {
      "cell_type": "code",
      "metadata": {
        "id": "PBmD854n0DXO"
      },
      "source": [
        "# Convert NO. column to integer datatype\r\n",
        "\r\n",
        "Accidents_2017['NO.'] = Accidents_2017['NO.'].astype(int) "
      ],
      "execution_count": null,
      "outputs": []
    },
    {
      "cell_type": "code",
      "metadata": {
        "colab": {
          "base_uri": "https://localhost:8080/"
        },
        "id": "9QApFbfJ0Qc9",
        "outputId": "2312bc22-e327-4dd9-ddd6-56cbbd72058f"
      },
      "source": [
        "Accidents_2017.dtypes"
      ],
      "execution_count": null,
      "outputs": [
        {
          "output_type": "execute_result",
          "data": {
            "text/plain": [
              "COUNTY                            object\n",
              "ROAD                              object\n",
              "BRIEF ACCIDENT DETAILS            object\n",
              "NO.                                int64\n",
              "Date DD/MM/YYYY           datetime64[ns]\n",
              "dtype: object"
            ]
          },
          "metadata": {
            "tags": []
          },
          "execution_count": 39
        }
      ]
    },
    {
      "cell_type": "code",
      "metadata": {
        "id": "Eb1yo_rO0WaP"
      },
      "source": [
        "# Renaming columns\r\n",
        "\r\n",
        "Accidents_2017.rename(columns={'BRIEF ACCIDENT DETAILS' : 'Description_of_Cause', 'NO.': 'Tot_Victims', 'Date DD/MM/YYYY' : 'Date'}, inplace= True)"
      ],
      "execution_count": null,
      "outputs": []
    },
    {
      "cell_type": "code",
      "metadata": {
        "colab": {
          "base_uri": "https://localhost:8080/"
        },
        "id": "Kf_DOfIF1jAW",
        "outputId": "cede67c9-f7ce-47ae-addd-194a528b5094"
      },
      "source": [
        "#Standardize the column names by removing white spaces using strip()function, capitalizing the cases using upper() function,\r\n",
        "#replacing spaces with underscore and removing brackets using replace() function\r\n",
        "\r\n",
        "Accidents_2017.columns = Accidents_2017.columns.str.strip().str.upper().str.replace(' ', '_')\r\n",
        "\r\n",
        "#display the standardized column names  \r\n",
        "Accidents_2017.columns"
      ],
      "execution_count": null,
      "outputs": [
        {
          "output_type": "execute_result",
          "data": {
            "text/plain": [
              "Index(['COUNTY', 'ROAD', 'DESCRIPTION_OF_CAUSE', 'TOT_VICTIMS', 'DATE'], dtype='object')"
            ]
          },
          "metadata": {
            "tags": []
          },
          "execution_count": 41
        }
      ]
    },
    {
      "cell_type": "code",
      "metadata": {
        "colab": {
          "base_uri": "https://localhost:8080/"
        },
        "id": "vxtYCqMe3uS_",
        "outputId": "5028d859-b287-4957-9061-9ba25c7e0c48"
      },
      "source": [
        "# create a function that removes white spaces, standardizes the case of string values,\r\n",
        "# replaces double spaces with single space, removes periods and replaces '&' with 'and'\r\n",
        "\r\n",
        "def clean_records(x):\r\n",
        "  if isinstance(x, str):\r\n",
        "    return x.strip().capitalize().replace('  ', ' ').replace('&', 'and').replace('.', '').replace(' a ', ' the ')\r\n",
        "  else:\r\n",
        "    return x\r\n",
        "\r\n",
        "#apply the function to the dataframe and assign dataframe to new variable\r\n",
        "Accidents_2017 = Accidents_2017.applymap(clean_records)\r\n",
        "\r\n",
        "#display a few records to see changes\r\n",
        "Accidents_2017"
      ],
      "execution_count": null,
      "outputs": [
        {
          "output_type": "execute_result",
          "data": {
            "text/html": [
              "<div>\n",
              "<style scoped>\n",
              "    .dataframe tbody tr th:only-of-type {\n",
              "        vertical-align: middle;\n",
              "    }\n",
              "\n",
              "    .dataframe tbody tr th {\n",
              "        vertical-align: top;\n",
              "    }\n",
              "\n",
              "    .dataframe thead th {\n",
              "        text-align: right;\n",
              "    }\n",
              "</style>\n",
              "<table border=\"1\" class=\"dataframe\">\n",
              "  <thead>\n",
              "    <tr style=\"text-align: right;\">\n",
              "      <th></th>\n",
              "      <th>COUNTY</th>\n",
              "      <th>ROAD</th>\n",
              "      <th>DESCRIPTION_OF_CAUSE</th>\n",
              "      <th>TOT_VICTIMS</th>\n",
              "      <th>DATE</th>\n",
              "    </tr>\n",
              "  </thead>\n",
              "  <tbody>\n",
              "    <tr>\n",
              "      <th>0</th>\n",
              "      <td>Kisumu</td>\n",
              "      <td>Nairobi-busia</td>\n",
              "      <td>The vehicle lost control and hit barrier landi...</td>\n",
              "      <td>1</td>\n",
              "      <td>2017-11-06</td>\n",
              "    </tr>\n",
              "    <tr>\n",
              "      <th>1</th>\n",
              "      <td>Narok</td>\n",
              "      <td>Narok-mau</td>\n",
              "      <td>The vehicle knocked down the victim</td>\n",
              "      <td>1</td>\n",
              "      <td>2017-11-06</td>\n",
              "    </tr>\n",
              "    <tr>\n",
              "      <th>2</th>\n",
              "      <td>Kericho</td>\n",
              "      <td>Kericho-nakuru</td>\n",
              "      <td>The vehicle lost control,veering off the road ...</td>\n",
              "      <td>1</td>\n",
              "      <td>2017-11-06</td>\n",
              "    </tr>\n",
              "    <tr>\n",
              "      <th>3</th>\n",
              "      <td>Bungoma</td>\n",
              "      <td>Bokoli-kimilili</td>\n",
              "      <td>The vehicle knocked down the victim</td>\n",
              "      <td>1</td>\n",
              "      <td>2017-11-06</td>\n",
              "    </tr>\n",
              "    <tr>\n",
              "      <th>4</th>\n",
              "      <td>Nakuru</td>\n",
              "      <td>Pipeline elementaita</td>\n",
              "      <td>The vehicle hit the motor cycle</td>\n",
              "      <td>1</td>\n",
              "      <td>2017-11-06</td>\n",
              "    </tr>\n",
              "    <tr>\n",
              "      <th>...</th>\n",
              "      <td>...</td>\n",
              "      <td>...</td>\n",
              "      <td>...</td>\n",
              "      <td>...</td>\n",
              "      <td>...</td>\n",
              "    </tr>\n",
              "    <tr>\n",
              "      <th>735</th>\n",
              "      <td>Migori</td>\n",
              "      <td>Ntimaru-kehancha</td>\n",
              "      <td>The vehicle knocked down the pedestrian</td>\n",
              "      <td>1</td>\n",
              "      <td>2017-02-22</td>\n",
              "    </tr>\n",
              "    <tr>\n",
              "      <th>736</th>\n",
              "      <td>Kirinyaga</td>\n",
              "      <td>Kenol-makutano</td>\n",
              "      <td>The cycle hit the stationary vehicle</td>\n",
              "      <td>2</td>\n",
              "      <td>2017-02-22</td>\n",
              "    </tr>\n",
              "    <tr>\n",
              "      <th>737</th>\n",
              "      <td>Nairobi</td>\n",
              "      <td>Thika rd</td>\n",
              "      <td>The vehicle knocked down the pedestiran</td>\n",
              "      <td>1</td>\n",
              "      <td>2017-02-22</td>\n",
              "    </tr>\n",
              "    <tr>\n",
              "      <th>738</th>\n",
              "      <td>Makueni</td>\n",
              "      <td>Nairobi-kangundo</td>\n",
              "      <td>The vehicle collided head on with the m/cycle</td>\n",
              "      <td>1</td>\n",
              "      <td>2017-02-22</td>\n",
              "    </tr>\n",
              "    <tr>\n",
              "      <th>739</th>\n",
              "      <td>Nairobi</td>\n",
              "      <td>Waiyaki way</td>\n",
              "      <td>The vehicle knocked down the pedestrian</td>\n",
              "      <td>1</td>\n",
              "      <td>2017-02-22</td>\n",
              "    </tr>\n",
              "  </tbody>\n",
              "</table>\n",
              "<p>661 rows × 5 columns</p>\n",
              "</div>"
            ],
            "text/plain": [
              "        COUNTY                  ROAD  ... TOT_VICTIMS       DATE\n",
              "0       Kisumu         Nairobi-busia  ...           1 2017-11-06\n",
              "1        Narok             Narok-mau  ...           1 2017-11-06\n",
              "2      Kericho        Kericho-nakuru  ...           1 2017-11-06\n",
              "3      Bungoma       Bokoli-kimilili  ...           1 2017-11-06\n",
              "4       Nakuru  Pipeline elementaita  ...           1 2017-11-06\n",
              "..         ...                   ...  ...         ...        ...\n",
              "735     Migori      Ntimaru-kehancha  ...           1 2017-02-22\n",
              "736  Kirinyaga        Kenol-makutano  ...           2 2017-02-22\n",
              "737    Nairobi              Thika rd  ...           1 2017-02-22\n",
              "738    Makueni      Nairobi-kangundo  ...           1 2017-02-22\n",
              "739    Nairobi           Waiyaki way  ...           1 2017-02-22\n",
              "\n",
              "[661 rows x 5 columns]"
            ]
          },
          "metadata": {
            "tags": []
          },
          "execution_count": 42
        }
      ]
    },
    {
      "cell_type": "code",
      "metadata": {
        "colab": {
          "base_uri": "https://localhost:8080/"
        },
        "id": "W46r3lZ99Elz",
        "outputId": "dbd80153-cd47-44ee-fdc1-a207ea490603"
      },
      "source": [
        "# Creating a box plot of the total number of victims\r\n",
        "Accidents_2017.boxplot(column =['TOT_VICTIMS'], grid = False)"
      ],
      "execution_count": null,
      "outputs": [
        {
          "output_type": "execute_result",
          "data": {
            "text/plain": [
              "<matplotlib.axes._subplots.AxesSubplot at 0x7fc78c7cd3c8>"
            ]
          },
          "metadata": {
            "tags": []
          },
          "execution_count": 43
        },
        {
          "output_type": "display_data",
          "data": {
            "image/png": "[encoded data removed]",
            "text/plain": [
              "<Figure size 432x288 with 1 Axes>"
            ]
          },
          "metadata": {
            "tags": [],
            "needs_background": "light"
          }
        }
      ]
    },
    {
      "cell_type": "markdown",
      "metadata": {
        "id": "VsDDG_6H9J3z"
      },
      "source": [
        "The outliers in the dataset are integral to the analysis, therefore we will not remove them from the dataset"
      ]
    },
    {
      "cell_type": "markdown",
      "metadata": {
        "id": "U9vxBGr2_1JZ"
      },
      "source": [
        "### **DATA ANALYSIS**"
      ]
    },
    {
      "cell_type": "markdown",
      "metadata": {
        "id": "mZG70Ina_-sr"
      },
      "source": [
        "#### **Question One**\r\n",
        "\r\n",
        "\r\n",
        "\r\n",
        "##### Which Counties had the most number of accidents?"
      ]
    },
    {
      "cell_type": "markdown",
      "metadata": {
        "id": "-TXi8FvsEenJ"
      },
      "source": [
        "##### *A. 2011 Traffic Accidents*"
      ]
    },
    {
      "cell_type": "code",
      "metadata": {
        "colab": {
          "base_uri": "https://localhost:8080/",
          "height": 204
        },
        "id": "Y93mjARx-anC",
        "outputId": "d1d82ef7-5d72-40ce-f86e-fb6bd58bc5ca"
      },
      "source": [
        "# Calculating the number of accidents per county\r\n",
        "Accidents_county11 = Accidents_2011.groupby(['COUNTY']).size()\r\n",
        "\r\n",
        "Accidents_county11 = Accidents_county11.to_frame(name = 'COUNT').reset_index()\r\n",
        "\r\n",
        "# Sorting the dataframe in the descending order of 'COUNT'\r\n",
        "Accidents_county11 = Accidents_county11.sort_values(by = 'COUNT', ascending = False)\r\n",
        "\r\n",
        "# Calculating the proportion of accidents per county\r\n",
        "Accidents_county11['PROPORTION %'] = (Accidents_county11['COUNT'] / Accidents_county11['COUNT'].sum()) * 100\r\n",
        "Accidents_county11.head()"
      ],
      "execution_count": null,
      "outputs": [
        {
          "output_type": "execute_result",
          "data": {
            "text/html": [
              "<div>\n",
              "<style scoped>\n",
              "    .dataframe tbody tr th:only-of-type {\n",
              "        vertical-align: middle;\n",
              "    }\n",
              "\n",
              "    .dataframe tbody tr th {\n",
              "        vertical-align: top;\n",
              "    }\n",
              "\n",
              "    .dataframe thead th {\n",
              "        text-align: right;\n",
              "    }\n",
              "</style>\n",
              "<table border=\"1\" class=\"dataframe\">\n",
              "  <thead>\n",
              "    <tr style=\"text-align: right;\">\n",
              "      <th></th>\n",
              "      <th>COUNTY</th>\n",
              "      <th>COUNT</th>\n",
              "      <th>PROPORTION %</th>\n",
              "    </tr>\n",
              "  </thead>\n",
              "  <tbody>\n",
              "    <tr>\n",
              "      <th>29</th>\n",
              "      <td>Nairobi</td>\n",
              "      <td>270</td>\n",
              "      <td>20.300752</td>\n",
              "    </tr>\n",
              "    <tr>\n",
              "      <th>12</th>\n",
              "      <td>Kiambu</td>\n",
              "      <td>140</td>\n",
              "      <td>10.526316</td>\n",
              "    </tr>\n",
              "    <tr>\n",
              "      <th>30</th>\n",
              "      <td>Nakuru</td>\n",
              "      <td>122</td>\n",
              "      <td>9.172932</td>\n",
              "    </tr>\n",
              "    <tr>\n",
              "      <th>9</th>\n",
              "      <td>Kakamega</td>\n",
              "      <td>53</td>\n",
              "      <td>3.984962</td>\n",
              "    </tr>\n",
              "    <tr>\n",
              "      <th>25</th>\n",
              "      <td>Meru</td>\n",
              "      <td>49</td>\n",
              "      <td>3.684211</td>\n",
              "    </tr>\n",
              "  </tbody>\n",
              "</table>\n",
              "</div>"
            ],
            "text/plain": [
              "      COUNTY  COUNT  PROPORTION %\n",
              "29   Nairobi    270     20.300752\n",
              "12    Kiambu    140     10.526316\n",
              "30    Nakuru    122      9.172932\n",
              "9   Kakamega     53      3.984962\n",
              "25      Meru     49      3.684211"
            ]
          },
          "metadata": {
            "tags": []
          },
          "execution_count": 44
        }
      ]
    },
    {
      "cell_type": "markdown",
      "metadata": {
        "id": "vuZiea-qEmVo"
      },
      "source": [
        "##### *B. 2017 Traffic Accidents*"
      ]
    },
    {
      "cell_type": "code",
      "metadata": {
        "id": "07FkExm98rOd",
        "colab": {
          "base_uri": "https://localhost:8080/",
          "height": 204
        },
        "outputId": "d054b4f8-e66a-4162-ec52-35945e737530"
      },
      "source": [
        "# Grouping dataset by county and finding the number of accidents in each county\r\n",
        "Accidents_county17 = Accidents_2017.groupby(['COUNTY']).size()\r\n",
        "Accidents_county17 = Accidents_county17.to_frame(name = 'COUNT').reset_index()\r\n",
        "\r\n",
        "# Sorting the dataframe by descending order of count\r\n",
        "Accidents_county17 = Accidents_county17.sort_values(by = 'COUNT', ascending = False)\r\n",
        "\r\n",
        "# Calculating the proportion of accidents per county\r\n",
        "Accidents_county17['PROPORTION %'] = (Accidents_county17['COUNT'] / Accidents_county17['COUNT'].sum()) * 100\r\n",
        "Accidents_county17.head()"
      ],
      "execution_count": null,
      "outputs": [
        {
          "output_type": "execute_result",
          "data": {
            "text/html": [
              "<div>\n",
              "<style scoped>\n",
              "    .dataframe tbody tr th:only-of-type {\n",
              "        vertical-align: middle;\n",
              "    }\n",
              "\n",
              "    .dataframe tbody tr th {\n",
              "        vertical-align: top;\n",
              "    }\n",
              "\n",
              "    .dataframe thead th {\n",
              "        text-align: right;\n",
              "    }\n",
              "</style>\n",
              "<table border=\"1\" class=\"dataframe\">\n",
              "  <thead>\n",
              "    <tr style=\"text-align: right;\">\n",
              "      <th></th>\n",
              "      <th>COUNTY</th>\n",
              "      <th>COUNT</th>\n",
              "      <th>PROPORTION %</th>\n",
              "    </tr>\n",
              "  </thead>\n",
              "  <tbody>\n",
              "    <tr>\n",
              "      <th>33</th>\n",
              "      <td>Nairobi</td>\n",
              "      <td>98</td>\n",
              "      <td>14.826021</td>\n",
              "    </tr>\n",
              "    <tr>\n",
              "      <th>14</th>\n",
              "      <td>Kiambu</td>\n",
              "      <td>56</td>\n",
              "      <td>8.472012</td>\n",
              "    </tr>\n",
              "    <tr>\n",
              "      <th>34</th>\n",
              "      <td>Nakuru</td>\n",
              "      <td>41</td>\n",
              "      <td>6.202723</td>\n",
              "    </tr>\n",
              "    <tr>\n",
              "      <th>23</th>\n",
              "      <td>Machakos</td>\n",
              "      <td>39</td>\n",
              "      <td>5.900151</td>\n",
              "    </tr>\n",
              "    <tr>\n",
              "      <th>24</th>\n",
              "      <td>Makueni</td>\n",
              "      <td>29</td>\n",
              "      <td>4.387292</td>\n",
              "    </tr>\n",
              "  </tbody>\n",
              "</table>\n",
              "</div>"
            ],
            "text/plain": [
              "      COUNTY  COUNT  PROPORTION %\n",
              "33   Nairobi     98     14.826021\n",
              "14    Kiambu     56      8.472012\n",
              "34    Nakuru     41      6.202723\n",
              "23  Machakos     39      5.900151\n",
              "24   Makueni     29      4.387292"
            ]
          },
          "metadata": {
            "tags": []
          },
          "execution_count": 45
        }
      ]
    },
    {
      "cell_type": "markdown",
      "metadata": {
        "id": "nvTrsBwxDFda"
      },
      "source": [
        "#### **Question Two**  \r\n",
        "\r\n",
        "\r\n",
        "##### What were the leading causes of accidents on 2011 and 2017 overall?"
      ]
    },
    {
      "cell_type": "markdown",
      "metadata": {
        "id": "oHg_PrsiDwll"
      },
      "source": [
        "\r\n",
        "\r\n",
        "##### *A. 2011 Traffic Accidents*\r\n",
        "\r\n",
        "\r\n"
      ]
    },
    {
      "cell_type": "code",
      "metadata": {
        "id": "gs2pJktTEd4m",
        "colab": {
          "base_uri": "https://localhost:8080/",
          "height": 359
        },
        "outputId": "176cf66a-ba23-428e-805f-42a5b151da51"
      },
      "source": [
        "Accidents_causes11 = Accidents_2011.groupby(['DESCRIPTION_OF_CAUSE']).size()\r\n",
        "Accidents_causes11 = Accidents_causes11.to_frame(name = 'COUNT').reset_index()\r\n",
        "Accidents_causes11 = Accidents_causes11.sort_values(by = 'COUNT', ascending = False)\r\n",
        "Accidents_causes11.head(10)"
      ],
      "execution_count": null,
      "outputs": [
        {
          "output_type": "execute_result",
          "data": {
            "text/html": [
              "<div>\n",
              "<style scoped>\n",
              "    .dataframe tbody tr th:only-of-type {\n",
              "        vertical-align: middle;\n",
              "    }\n",
              "\n",
              "    .dataframe tbody tr th {\n",
              "        vertical-align: top;\n",
              "    }\n",
              "\n",
              "    .dataframe thead th {\n",
              "        text-align: right;\n",
              "    }\n",
              "</style>\n",
              "<table border=\"1\" class=\"dataframe\">\n",
              "  <thead>\n",
              "    <tr style=\"text-align: right;\">\n",
              "      <th></th>\n",
              "      <th>DESCRIPTION_OF_CAUSE</th>\n",
              "      <th>COUNT</th>\n",
              "    </tr>\n",
              "  </thead>\n",
              "  <tbody>\n",
              "    <tr>\n",
              "      <th>450</th>\n",
              "      <td>Pedestrian knocked down</td>\n",
              "      <td>102</td>\n",
              "    </tr>\n",
              "    <tr>\n",
              "      <th>599</th>\n",
              "      <td>Unspecified</td>\n",
              "      <td>102</td>\n",
              "    </tr>\n",
              "    <tr>\n",
              "      <th>440</th>\n",
              "      <td>Pedestrian crossing road</td>\n",
              "      <td>84</td>\n",
              "    </tr>\n",
              "    <tr>\n",
              "      <th>468</th>\n",
              "      <td>Pedestrian walking along the road</td>\n",
              "      <td>34</td>\n",
              "    </tr>\n",
              "    <tr>\n",
              "      <th>236</th>\n",
              "      <td>Lost control</td>\n",
              "      <td>30</td>\n",
              "    </tr>\n",
              "    <tr>\n",
              "      <th>479</th>\n",
              "      <td>Pedestrian was knocked down by a car</td>\n",
              "      <td>27</td>\n",
              "    </tr>\n",
              "    <tr>\n",
              "      <th>487</th>\n",
              "      <td>Pedestrian was knocked down by a matatu</td>\n",
              "      <td>23</td>\n",
              "    </tr>\n",
              "    <tr>\n",
              "      <th>475</th>\n",
              "      <td>Pedestrian was knocked down</td>\n",
              "      <td>18</td>\n",
              "    </tr>\n",
              "    <tr>\n",
              "      <th>411</th>\n",
              "      <td>Pedal cyclist knocked down</td>\n",
              "      <td>18</td>\n",
              "    </tr>\n",
              "    <tr>\n",
              "      <th>197</th>\n",
              "      <td>Juvenile pedestrian was knocked down</td>\n",
              "      <td>12</td>\n",
              "    </tr>\n",
              "  </tbody>\n",
              "</table>\n",
              "</div>"
            ],
            "text/plain": [
              "                        DESCRIPTION_OF_CAUSE  COUNT\n",
              "450                  Pedestrian knocked down    102\n",
              "599                              Unspecified    102\n",
              "440                 Pedestrian crossing road     84\n",
              "468        Pedestrian walking along the road     34\n",
              "236                             Lost control     30\n",
              "479     Pedestrian was knocked down by a car     27\n",
              "487  Pedestrian was knocked down by a matatu     23\n",
              "475              Pedestrian was knocked down     18\n",
              "411               Pedal cyclist knocked down     18\n",
              "197     Juvenile pedestrian was knocked down     12"
            ]
          },
          "metadata": {
            "tags": []
          },
          "execution_count": 68
        }
      ]
    },
    {
      "cell_type": "code",
      "metadata": {
        "colab": {
          "base_uri": "https://localhost:8080/",
          "height": 552
        },
        "id": "lEowLblRtNhO",
        "outputId": "6dbe7840-6962-4b14-ab8d-4eaa72449099"
      },
      "source": [
        "newdata = Accidents_causes11.head(10)\r\n",
        "fig = plt.figure(figsize = (10, 5))\r\n",
        "plt.bar(newdata.DESCRIPTION_OF_CAUSE, newdata.COUNT, color ='maroon',  \r\n",
        "        width = 0.8)\r\n",
        "plt.xlabel(\"Cause of Accident\") \r\n",
        "plt.xticks(rotation=80)\r\n",
        "plt.ylabel(\"No. of accidents\") \r\n",
        "plt.title(\"Bar Chart of top Causes of accidents in 2011\") \r\n",
        "plt.show() "
      ],
      "execution_count": null,
      "outputs": [
        {
          "output_type": "display_data",
          "data": {
            "image/png": "[encoded data removed]",
            "text/plain": [
              "<Figure size 720x360 with 1 Axes>"
            ]
          },
          "metadata": {
            "tags": [],
            "needs_background": "light"
          }
        }
      ]
    },
    {
      "cell_type": "markdown",
      "metadata": {
        "id": "LVNZhZM-D796"
      },
      "source": [
        "##### *B. 2017 Traffic Accidents*\r\n",
        "\r\n",
        "\r\n",
        "\r\n"
      ]
    },
    {
      "cell_type": "code",
      "metadata": {
        "id": "F2Yzi62sGvdF",
        "colab": {
          "base_uri": "https://localhost:8080/",
          "height": 359
        },
        "outputId": "24976ad1-b93c-4b91-f22b-71d7516403c5"
      },
      "source": [
        "Accidents_causes17 = Accidents_2017.groupby(['DESCRIPTION_OF_CAUSE']).size()\r\n",
        "Accidents_causes17 = Accidents_causes17.to_frame(name = 'COUNT').reset_index()\r\n",
        "Accidents_causes17 = Accidents_causes17.sort_values(by = 'COUNT', ascending = False)\r\n",
        "Accidents_causes17.head(10)"
      ],
      "execution_count": null,
      "outputs": [
        {
          "output_type": "execute_result",
          "data": {
            "text/html": [
              "<div>\n",
              "<style scoped>\n",
              "    .dataframe tbody tr th:only-of-type {\n",
              "        vertical-align: middle;\n",
              "    }\n",
              "\n",
              "    .dataframe tbody tr th {\n",
              "        vertical-align: top;\n",
              "    }\n",
              "\n",
              "    .dataframe thead th {\n",
              "        text-align: right;\n",
              "    }\n",
              "</style>\n",
              "<table border=\"1\" class=\"dataframe\">\n",
              "  <thead>\n",
              "    <tr style=\"text-align: right;\">\n",
              "      <th></th>\n",
              "      <th>DESCRIPTION_OF_CAUSE</th>\n",
              "      <th>COUNT</th>\n",
              "    </tr>\n",
              "  </thead>\n",
              "  <tbody>\n",
              "    <tr>\n",
              "      <th>255</th>\n",
              "      <td>The vehicle knocked down the victim</td>\n",
              "      <td>169</td>\n",
              "    </tr>\n",
              "    <tr>\n",
              "      <th>5</th>\n",
              "      <td>Head on collision</td>\n",
              "      <td>66</td>\n",
              "    </tr>\n",
              "    <tr>\n",
              "      <th>254</th>\n",
              "      <td>The vehicle knocked down the pedestrian</td>\n",
              "      <td>11</td>\n",
              "    </tr>\n",
              "    <tr>\n",
              "      <th>11</th>\n",
              "      <td>Hit and run</td>\n",
              "      <td>9</td>\n",
              "    </tr>\n",
              "    <tr>\n",
              "      <th>280</th>\n",
              "      <td>The vehicle lost control and rolled several times</td>\n",
              "      <td>6</td>\n",
              "    </tr>\n",
              "    <tr>\n",
              "      <th>241</th>\n",
              "      <td>The vehicle hit the motor cycle</td>\n",
              "      <td>6</td>\n",
              "    </tr>\n",
              "    <tr>\n",
              "      <th>103</th>\n",
              "      <td>The cycle knocked down the victim</td>\n",
              "      <td>5</td>\n",
              "    </tr>\n",
              "    <tr>\n",
              "      <th>239</th>\n",
              "      <td>The vehicle hit the m/cycle</td>\n",
              "      <td>5</td>\n",
              "    </tr>\n",
              "    <tr>\n",
              "      <th>224</th>\n",
              "      <td>The vehicle collided head on with the m/cycle</td>\n",
              "      <td>5</td>\n",
              "    </tr>\n",
              "    <tr>\n",
              "      <th>18</th>\n",
              "      <td>Knocked down the pedestrian</td>\n",
              "      <td>5</td>\n",
              "    </tr>\n",
              "  </tbody>\n",
              "</table>\n",
              "</div>"
            ],
            "text/plain": [
              "                                  DESCRIPTION_OF_CAUSE  COUNT\n",
              "255                The vehicle knocked down the victim    169\n",
              "5                                    Head on collision     66\n",
              "254            The vehicle knocked down the pedestrian     11\n",
              "11                                         Hit and run      9\n",
              "280  The vehicle lost control and rolled several times      6\n",
              "241                    The vehicle hit the motor cycle      6\n",
              "103                  The cycle knocked down the victim      5\n",
              "239                        The vehicle hit the m/cycle      5\n",
              "224      The vehicle collided head on with the m/cycle      5\n",
              "18                         Knocked down the pedestrian      5"
            ]
          },
          "metadata": {
            "tags": []
          },
          "execution_count": 108
        }
      ]
    },
    {
      "cell_type": "code",
      "metadata": {
        "colab": {
          "base_uri": "https://localhost:8080/",
          "height": 741
        },
        "id": "QkvclDCQu4vJ",
        "outputId": "13ffb201-a9e8-4979-89c0-a505275aa794"
      },
      "source": [
        "newdata = Accidents_causes17.head(10)\r\n",
        "fig = plt.figure(figsize = (12, 8))\r\n",
        "plt.bar(newdata.DESCRIPTION_OF_CAUSE, newdata.COUNT, color ='blue',  \r\n",
        "        width = 0.8)\r\n",
        "plt.xlabel(\"Cause of Accident\") \r\n",
        "plt.xticks(rotation=80)\r\n",
        "plt.ylabel(\"No. of accidents\") \r\n",
        "plt.title(\"Bar Chart of top Causes of accidents in 2017\") \r\n",
        "plt.show() "
      ],
      "execution_count": null,
      "outputs": [
        {
          "output_type": "display_data",
          "data": {
            "image/png": "[encoded data removed]",
            "text/plain": [
              "<Figure size 864x576 with 1 Axes>"
            ]
          },
          "metadata": {
            "tags": [],
            "needs_background": "light"
          }
        }
      ]
    },
    {
      "cell_type": "markdown",
      "metadata": {
        "id": "xdtr1poPIWyY"
      },
      "source": [
        "#### Question Three  \r\n",
        "\r\n",
        "##### What are the leading causes of accidents in the region with the most number of accidents?"
      ]
    },
    {
      "cell_type": "markdown",
      "metadata": {
        "id": "1DVmlXInItED"
      },
      "source": [
        "\r\n",
        "\r\n",
        "\r\n",
        "##### *A. 2011 Traffic Accidents*\r\n",
        "\r\n",
        "\r\n"
      ]
    },
    {
      "cell_type": "code",
      "metadata": {
        "id": "0yOQ_s7WJGto",
        "colab": {
          "base_uri": "https://localhost:8080/",
          "height": 204
        },
        "outputId": "c3faeb15-ef85-4d38-d7d1-64b9b0f5f22b"
      },
      "source": [
        "#get biggest cause of accidents within Nairobi\r\n",
        "#pedestrian related accidents clearly lead\r\n",
        "#what can NTSA or County Gov. do?\r\n",
        "Nairobi11 = Accidents_2011.loc[Accidents_2011['COUNTY'] =='Nairobi']\r\n",
        "County_causes11 = Nairobi11.groupby(['DESCRIPTION_OF_CAUSE']).size()\r\n",
        "County_causes11 = County_causes11.to_frame(name = 'COUNT').reset_index()\r\n",
        "County_causes11 = County_causes11.sort_values(by = 'COUNT', ascending = False)\r\n",
        "County_causes11.head()"
      ],
      "execution_count": null,
      "outputs": [
        {
          "output_type": "execute_result",
          "data": {
            "text/html": [
              "<div>\n",
              "<style scoped>\n",
              "    .dataframe tbody tr th:only-of-type {\n",
              "        vertical-align: middle;\n",
              "    }\n",
              "\n",
              "    .dataframe tbody tr th {\n",
              "        vertical-align: top;\n",
              "    }\n",
              "\n",
              "    .dataframe thead th {\n",
              "        text-align: right;\n",
              "    }\n",
              "</style>\n",
              "<table border=\"1\" class=\"dataframe\">\n",
              "  <thead>\n",
              "    <tr style=\"text-align: right;\">\n",
              "      <th></th>\n",
              "      <th>DESCRIPTION_OF_CAUSE</th>\n",
              "      <th>COUNT</th>\n",
              "    </tr>\n",
              "  </thead>\n",
              "  <tbody>\n",
              "    <tr>\n",
              "      <th>93</th>\n",
              "      <td>Pedestrian knocked down</td>\n",
              "      <td>29</td>\n",
              "    </tr>\n",
              "    <tr>\n",
              "      <th>90</th>\n",
              "      <td>Pedestrian crossing road</td>\n",
              "      <td>27</td>\n",
              "    </tr>\n",
              "    <tr>\n",
              "      <th>144</th>\n",
              "      <td>Unspecified</td>\n",
              "      <td>18</td>\n",
              "    </tr>\n",
              "    <tr>\n",
              "      <th>108</th>\n",
              "      <td>Pedestrian was knocked down by a car</td>\n",
              "      <td>10</td>\n",
              "    </tr>\n",
              "    <tr>\n",
              "      <th>113</th>\n",
              "      <td>Pedestrian was knocked down by a matatu</td>\n",
              "      <td>8</td>\n",
              "    </tr>\n",
              "  </tbody>\n",
              "</table>\n",
              "</div>"
            ],
            "text/plain": [
              "                        DESCRIPTION_OF_CAUSE  COUNT\n",
              "93                   Pedestrian knocked down     29\n",
              "90                  Pedestrian crossing road     27\n",
              "144                              Unspecified     18\n",
              "108     Pedestrian was knocked down by a car     10\n",
              "113  Pedestrian was knocked down by a matatu      8"
            ]
          },
          "metadata": {
            "tags": []
          },
          "execution_count": 48
        }
      ]
    },
    {
      "cell_type": "code",
      "metadata": {
        "colab": {
          "base_uri": "https://localhost:8080/",
          "height": 722
        },
        "id": "5p8A-lq15vOm",
        "outputId": "bd0eb09e-dcb6-48fc-829e-3ffa1851eca2"
      },
      "source": [
        "newdata = County_causes11.head(10)\r\n",
        "fig = plt.figure(figsize = (12, 8))\r\n",
        "plt.bar(newdata.DESCRIPTION_OF_CAUSE, newdata.COUNT, color ='maroon',  \r\n",
        "        width = 0.8)\r\n",
        "plt.xlabel(\"Cause of Accident\") \r\n",
        "plt.xticks(rotation=80)\r\n",
        "plt.ylabel(\"No. of accidents\") \r\n",
        "plt.title(\"Top Causes of Accidents within Nairobi County(2011)\") \r\n",
        "plt.show() "
      ],
      "execution_count": null,
      "outputs": [
        {
          "output_type": "display_data",
          "data": {
            "image/png": "[encoded data removed]",
            "text/plain": [
              "<Figure size 864x576 with 1 Axes>"
            ]
          },
          "metadata": {
            "tags": [],
            "needs_background": "light"
          }
        }
      ]
    },
    {
      "cell_type": "markdown",
      "metadata": {
        "id": "l9ay5si2I9Wm"
      },
      "source": [
        "##### *B. 2017 Traffic Accidents*"
      ]
    },
    {
      "cell_type": "code",
      "metadata": {
        "id": "R3vZsqZ9JF2k",
        "colab": {
          "base_uri": "https://localhost:8080/",
          "height": 359
        },
        "outputId": "4e4707cf-ce60-4550-d26a-f616f603716e"
      },
      "source": [
        "#get biggest cause of accidents within Nairobi\r\n",
        "#pedestrian related accidents clearly lead\r\n",
        "#what can NTSA or County Gov. do?\r\n",
        "Nairobi17 = Accidents_2017.loc[Accidents_2017['COUNTY'] =='Nairobi']\r\n",
        "County_causes17 = Nairobi17.groupby(['DESCRIPTION_OF_CAUSE']).size()\r\n",
        "County_causes17 = County_causes17.to_frame(name = 'COUNT').reset_index()\r\n",
        "County_causes17 = County_causes17.sort_values(by = 'COUNT', ascending = False)\r\n",
        "County_causes17.head(10)"
      ],
      "execution_count": null,
      "outputs": [
        {
          "output_type": "execute_result",
          "data": {
            "text/html": [
              "<div>\n",
              "<style scoped>\n",
              "    .dataframe tbody tr th:only-of-type {\n",
              "        vertical-align: middle;\n",
              "    }\n",
              "\n",
              "    .dataframe tbody tr th {\n",
              "        vertical-align: top;\n",
              "    }\n",
              "\n",
              "    .dataframe thead th {\n",
              "        text-align: right;\n",
              "    }\n",
              "</style>\n",
              "<table border=\"1\" class=\"dataframe\">\n",
              "  <thead>\n",
              "    <tr style=\"text-align: right;\">\n",
              "      <th></th>\n",
              "      <th>DESCRIPTION_OF_CAUSE</th>\n",
              "      <th>COUNT</th>\n",
              "    </tr>\n",
              "  </thead>\n",
              "  <tbody>\n",
              "    <tr>\n",
              "      <th>40</th>\n",
              "      <td>The vehicle knocked down the victim</td>\n",
              "      <td>44</td>\n",
              "    </tr>\n",
              "    <tr>\n",
              "      <th>39</th>\n",
              "      <td>The vehicle knocked down the pedestrian</td>\n",
              "      <td>3</td>\n",
              "    </tr>\n",
              "    <tr>\n",
              "      <th>9</th>\n",
              "      <td>M/v knocked down unknown m/a pedestrian killin...</td>\n",
              "      <td>2</td>\n",
              "    </tr>\n",
              "    <tr>\n",
              "      <th>0</th>\n",
              "      <td>Head on collision</td>\n",
              "      <td>2</td>\n",
              "    </tr>\n",
              "    <tr>\n",
              "      <th>47</th>\n",
              "      <td>The victim jumped out of the vehicle and was r...</td>\n",
              "      <td>1</td>\n",
              "    </tr>\n",
              "    <tr>\n",
              "      <th>46</th>\n",
              "      <td>The victim fell down while the vehicle was in ...</td>\n",
              "      <td>1</td>\n",
              "    </tr>\n",
              "    <tr>\n",
              "      <th>28</th>\n",
              "      <td>The prado hit the m/cycle</td>\n",
              "      <td>1</td>\n",
              "    </tr>\n",
              "    <tr>\n",
              "      <th>29</th>\n",
              "      <td>The t/wish rammed into the trailler which was ...</td>\n",
              "      <td>1</td>\n",
              "    </tr>\n",
              "    <tr>\n",
              "      <th>30</th>\n",
              "      <td>The toyota isis hit the toyota fielder which s...</td>\n",
              "      <td>1</td>\n",
              "    </tr>\n",
              "    <tr>\n",
              "      <th>31</th>\n",
              "      <td>The toyota mark ii hit the nissan blue</td>\n",
              "      <td>1</td>\n",
              "    </tr>\n",
              "  </tbody>\n",
              "</table>\n",
              "</div>"
            ],
            "text/plain": [
              "                                 DESCRIPTION_OF_CAUSE  COUNT\n",
              "40                The vehicle knocked down the victim     44\n",
              "39            The vehicle knocked down the pedestrian      3\n",
              "9   M/v knocked down unknown m/a pedestrian killin...      2\n",
              "0                                   Head on collision      2\n",
              "47  The victim jumped out of the vehicle and was r...      1\n",
              "46  The victim fell down while the vehicle was in ...      1\n",
              "28                          The prado hit the m/cycle      1\n",
              "29  The t/wish rammed into the trailler which was ...      1\n",
              "30  The toyota isis hit the toyota fielder which s...      1\n",
              "31             The toyota mark ii hit the nissan blue      1"
            ]
          },
          "metadata": {
            "tags": []
          },
          "execution_count": 111
        }
      ]
    },
    {
      "cell_type": "code",
      "metadata": {
        "colab": {
          "base_uri": "https://localhost:8080/",
          "height": 788
        },
        "id": "ykoF47bU6hNY",
        "outputId": "10b4b762-5ffb-42e5-a6cc-f014fc6adf5c"
      },
      "source": [
        "newdata = County_causes17.head(10)\r\n",
        "fig = plt.figure(figsize = (10, 5))\r\n",
        "plt.bar(newdata.DESCRIPTION_OF_CAUSE, newdata.COUNT, color ='blue',  \r\n",
        "        width = 0.8)\r\n",
        "plt.xlabel(\"Cause of Accident Within Nairobi\") \r\n",
        "plt.xticks(rotation=80)\r\n",
        "plt.ylabel(\"No. of accidents\") \r\n",
        "plt.title(\"Top Causes of Accidents within Nairobi County(2017)\") \r\n",
        "plt.show() "
      ],
      "execution_count": null,
      "outputs": [
        {
          "output_type": "display_data",
          "data": {
            "image/png": "[encoded data removed]",
            "text/plain": [
              "<Figure size 720x360 with 1 Axes>"
            ]
          },
          "metadata": {
            "tags": [],
            "needs_background": "light"
          }
        }
      ]
    },
    {
      "cell_type": "markdown",
      "metadata": {
        "id": "D5W0grgxMQlQ"
      },
      "source": [
        "#### Question Four  \r\n",
        "\r\n",
        "\r\n",
        "##### What are the counties with the least numbers of accidents?"
      ]
    },
    {
      "cell_type": "markdown",
      "metadata": {
        "id": "6yn5CpFuMkpn"
      },
      "source": [
        "##### *A. 2011 Traffic Accidents*"
      ]
    },
    {
      "cell_type": "code",
      "metadata": {
        "colab": {
          "base_uri": "https://localhost:8080/",
          "height": 204
        },
        "id": "W0bNbjuAMuVd",
        "outputId": "d411ddcb-497a-42d8-9b02-ec62066a45c9"
      },
      "source": [
        "# Sorting the dataframe in the descending order of 'COUNT'\r\n",
        "Accidents_county11 = Accidents_county11.sort_values(by = 'COUNT', ascending = True)\r\n",
        "Accidents_county11.head()"
      ],
      "execution_count": null,
      "outputs": [
        {
          "output_type": "execute_result",
          "data": {
            "text/html": [
              "<div>\n",
              "<style scoped>\n",
              "    .dataframe tbody tr th:only-of-type {\n",
              "        vertical-align: middle;\n",
              "    }\n",
              "\n",
              "    .dataframe tbody tr th {\n",
              "        vertical-align: top;\n",
              "    }\n",
              "\n",
              "    .dataframe thead th {\n",
              "        text-align: right;\n",
              "    }\n",
              "</style>\n",
              "<table border=\"1\" class=\"dataframe\">\n",
              "  <thead>\n",
              "    <tr style=\"text-align: right;\">\n",
              "      <th></th>\n",
              "      <th>COUNTY</th>\n",
              "      <th>COUNT</th>\n",
              "      <th>PROPORTION %</th>\n",
              "    </tr>\n",
              "  </thead>\n",
              "  <tbody>\n",
              "    <tr>\n",
              "      <th>23</th>\n",
              "      <td>Mandera</td>\n",
              "      <td>1</td>\n",
              "      <td>0.075188</td>\n",
              "    </tr>\n",
              "    <tr>\n",
              "      <th>20</th>\n",
              "      <td>Lamu</td>\n",
              "      <td>1</td>\n",
              "      <td>0.075188</td>\n",
              "    </tr>\n",
              "    <tr>\n",
              "      <th>36</th>\n",
              "      <td>Samburu</td>\n",
              "      <td>1</td>\n",
              "      <td>0.075188</td>\n",
              "    </tr>\n",
              "    <tr>\n",
              "      <th>41</th>\n",
              "      <td>Turkana</td>\n",
              "      <td>2</td>\n",
              "      <td>0.150376</td>\n",
              "    </tr>\n",
              "    <tr>\n",
              "      <th>44</th>\n",
              "      <td>Wajir</td>\n",
              "      <td>3</td>\n",
              "      <td>0.225564</td>\n",
              "    </tr>\n",
              "  </tbody>\n",
              "</table>\n",
              "</div>"
            ],
            "text/plain": [
              "     COUNTY  COUNT  PROPORTION %\n",
              "23  Mandera      1      0.075188\n",
              "20     Lamu      1      0.075188\n",
              "36  Samburu      1      0.075188\n",
              "41  Turkana      2      0.150376\n",
              "44    Wajir      3      0.225564"
            ]
          },
          "metadata": {
            "tags": []
          },
          "execution_count": 50
        }
      ]
    },
    {
      "cell_type": "markdown",
      "metadata": {
        "id": "-rP0WE6hMo1W"
      },
      "source": [
        "##### *B. 2017 Traffic Accidents*"
      ]
    },
    {
      "cell_type": "code",
      "metadata": {
        "colab": {
          "base_uri": "https://localhost:8080/",
          "height": 204
        },
        "id": "0A0Y90xzMwLc",
        "outputId": "c5857a28-321b-4391-bb19-2796c9a447bd"
      },
      "source": [
        "# Sorting the dataframe in the descending order of 'COUNT'\r\n",
        "Accidents_county17 = Accidents_county17.sort_values(by = 'COUNT', ascending = True)\r\n",
        "Accidents_county17.head()"
      ],
      "execution_count": null,
      "outputs": [
        {
          "output_type": "execute_result",
          "data": {
            "text/html": [
              "<div>\n",
              "<style scoped>\n",
              "    .dataframe tbody tr th:only-of-type {\n",
              "        vertical-align: middle;\n",
              "    }\n",
              "\n",
              "    .dataframe tbody tr th {\n",
              "        vertical-align: top;\n",
              "    }\n",
              "\n",
              "    .dataframe thead th {\n",
              "        text-align: right;\n",
              "    }\n",
              "</style>\n",
              "<table border=\"1\" class=\"dataframe\">\n",
              "  <thead>\n",
              "    <tr style=\"text-align: right;\">\n",
              "      <th></th>\n",
              "      <th>COUNTY</th>\n",
              "      <th>COUNT</th>\n",
              "      <th>PROPORTION %</th>\n",
              "    </tr>\n",
              "  </thead>\n",
              "  <tbody>\n",
              "    <tr>\n",
              "      <th>25</th>\n",
              "      <td>Malindi</td>\n",
              "      <td>1</td>\n",
              "      <td>0.151286</td>\n",
              "    </tr>\n",
              "    <tr>\n",
              "      <th>31</th>\n",
              "      <td>Moyale</td>\n",
              "      <td>1</td>\n",
              "      <td>0.151286</td>\n",
              "    </tr>\n",
              "    <tr>\n",
              "      <th>26</th>\n",
              "      <td>Mandera</td>\n",
              "      <td>1</td>\n",
              "      <td>0.151286</td>\n",
              "    </tr>\n",
              "    <tr>\n",
              "      <th>15</th>\n",
              "      <td>Kilfi</td>\n",
              "      <td>1</td>\n",
              "      <td>0.151286</td>\n",
              "    </tr>\n",
              "    <tr>\n",
              "      <th>4</th>\n",
              "      <td>Elgeyo marakwet</td>\n",
              "      <td>1</td>\n",
              "      <td>0.151286</td>\n",
              "    </tr>\n",
              "  </tbody>\n",
              "</table>\n",
              "</div>"
            ],
            "text/plain": [
              "             COUNTY  COUNT  PROPORTION %\n",
              "25          Malindi      1      0.151286\n",
              "31           Moyale      1      0.151286\n",
              "26          Mandera      1      0.151286\n",
              "15            Kilfi      1      0.151286\n",
              "4   Elgeyo marakwet      1      0.151286"
            ]
          },
          "metadata": {
            "tags": []
          },
          "execution_count": 51
        }
      ]
    },
    {
      "cell_type": "markdown",
      "metadata": {
        "id": "y26gHVwVORpg"
      },
      "source": [
        "#### Question Five\r\n",
        "\r\n",
        "##### What is the county with the most significant drop of accidents?"
      ]
    },
    {
      "cell_type": "code",
      "metadata": {
        "id": "qzR-4HEpdKjS"
      },
      "source": [
        "# Rename columns\r\n",
        "\r\n",
        "Accidents_county11.rename(columns={'COUNT': 'COUNT_11', 'PROPORTION %':'PROPORTION_11'}, inplace= True)\r\n",
        "Accidents_county17.rename(columns={'COUNT': 'COUNT_17', 'PROPORTION %': 'PROPORTION_17'}, inplace= True)"
      ],
      "execution_count": null,
      "outputs": []
    },
    {
      "cell_type": "code",
      "metadata": {
        "id": "x0hRofmyZ7o5"
      },
      "source": [
        "# Merging dataframes to compare number of accidents per county in each year\r\n",
        "\r\n",
        "Accidents_merged = pd.merge(left=Accidents_county11, right=Accidents_county17, left_on='COUNTY', right_on='COUNTY')"
      ],
      "execution_count": null,
      "outputs": []
    },
    {
      "cell_type": "code",
      "metadata": {
        "colab": {
          "base_uri": "https://localhost:8080/",
          "height": 1000
        },
        "id": "UofuL000c2xM",
        "outputId": "3f04454e-9be1-43d2-fbf6-ce4eb9f3616c"
      },
      "source": [
        "Accidents_merged"
      ],
      "execution_count": null,
      "outputs": [
        {
          "output_type": "execute_result",
          "data": {
            "text/html": [
              "<div>\n",
              "<style scoped>\n",
              "    .dataframe tbody tr th:only-of-type {\n",
              "        vertical-align: middle;\n",
              "    }\n",
              "\n",
              "    .dataframe tbody tr th {\n",
              "        vertical-align: top;\n",
              "    }\n",
              "\n",
              "    .dataframe thead th {\n",
              "        text-align: right;\n",
              "    }\n",
              "</style>\n",
              "<table border=\"1\" class=\"dataframe\">\n",
              "  <thead>\n",
              "    <tr style=\"text-align: right;\">\n",
              "      <th></th>\n",
              "      <th>COUNTY</th>\n",
              "      <th>COUNT_11</th>\n",
              "      <th>PROPORTION_11</th>\n",
              "      <th>COUNT_17</th>\n",
              "      <th>PROPORTION_17</th>\n",
              "    </tr>\n",
              "  </thead>\n",
              "  <tbody>\n",
              "    <tr>\n",
              "      <th>0</th>\n",
              "      <td>Mandera</td>\n",
              "      <td>1</td>\n",
              "      <td>0.075188</td>\n",
              "      <td>1</td>\n",
              "      <td>0.151286</td>\n",
              "    </tr>\n",
              "    <tr>\n",
              "      <th>1</th>\n",
              "      <td>Marsabit</td>\n",
              "      <td>4</td>\n",
              "      <td>0.300752</td>\n",
              "      <td>6</td>\n",
              "      <td>0.907716</td>\n",
              "    </tr>\n",
              "    <tr>\n",
              "      <th>2</th>\n",
              "      <td>West pokot</td>\n",
              "      <td>4</td>\n",
              "      <td>0.300752</td>\n",
              "      <td>3</td>\n",
              "      <td>0.453858</td>\n",
              "    </tr>\n",
              "    <tr>\n",
              "      <th>3</th>\n",
              "      <td>Isiolo</td>\n",
              "      <td>6</td>\n",
              "      <td>0.451128</td>\n",
              "      <td>2</td>\n",
              "      <td>0.302572</td>\n",
              "    </tr>\n",
              "    <tr>\n",
              "      <th>4</th>\n",
              "      <td>Kwale</td>\n",
              "      <td>7</td>\n",
              "      <td>0.526316</td>\n",
              "      <td>6</td>\n",
              "      <td>0.907716</td>\n",
              "    </tr>\n",
              "    <tr>\n",
              "      <th>5</th>\n",
              "      <td>Bomet</td>\n",
              "      <td>7</td>\n",
              "      <td>0.526316</td>\n",
              "      <td>8</td>\n",
              "      <td>1.210287</td>\n",
              "    </tr>\n",
              "    <tr>\n",
              "      <th>6</th>\n",
              "      <td>Nandi</td>\n",
              "      <td>8</td>\n",
              "      <td>0.601504</td>\n",
              "      <td>7</td>\n",
              "      <td>1.059002</td>\n",
              "    </tr>\n",
              "    <tr>\n",
              "      <th>7</th>\n",
              "      <td>Vihiga</td>\n",
              "      <td>10</td>\n",
              "      <td>0.751880</td>\n",
              "      <td>5</td>\n",
              "      <td>0.756430</td>\n",
              "    </tr>\n",
              "    <tr>\n",
              "      <th>8</th>\n",
              "      <td>Laikipia</td>\n",
              "      <td>10</td>\n",
              "      <td>0.751880</td>\n",
              "      <td>4</td>\n",
              "      <td>0.605144</td>\n",
              "    </tr>\n",
              "    <tr>\n",
              "      <th>9</th>\n",
              "      <td>Busia</td>\n",
              "      <td>11</td>\n",
              "      <td>0.827068</td>\n",
              "      <td>7</td>\n",
              "      <td>1.059002</td>\n",
              "    </tr>\n",
              "    <tr>\n",
              "      <th>10</th>\n",
              "      <td>Baringo</td>\n",
              "      <td>11</td>\n",
              "      <td>0.827068</td>\n",
              "      <td>9</td>\n",
              "      <td>1.361573</td>\n",
              "    </tr>\n",
              "    <tr>\n",
              "      <th>11</th>\n",
              "      <td>Garissa</td>\n",
              "      <td>12</td>\n",
              "      <td>0.902256</td>\n",
              "      <td>8</td>\n",
              "      <td>1.210287</td>\n",
              "    </tr>\n",
              "    <tr>\n",
              "      <th>12</th>\n",
              "      <td>Homabay</td>\n",
              "      <td>13</td>\n",
              "      <td>0.977444</td>\n",
              "      <td>5</td>\n",
              "      <td>0.756430</td>\n",
              "    </tr>\n",
              "    <tr>\n",
              "      <th>13</th>\n",
              "      <td>Narok</td>\n",
              "      <td>13</td>\n",
              "      <td>0.977444</td>\n",
              "      <td>11</td>\n",
              "      <td>1.664145</td>\n",
              "    </tr>\n",
              "    <tr>\n",
              "      <th>14</th>\n",
              "      <td>Nyandarua</td>\n",
              "      <td>14</td>\n",
              "      <td>1.052632</td>\n",
              "      <td>12</td>\n",
              "      <td>1.815431</td>\n",
              "    </tr>\n",
              "    <tr>\n",
              "      <th>15</th>\n",
              "      <td>Nyamira</td>\n",
              "      <td>15</td>\n",
              "      <td>1.127820</td>\n",
              "      <td>14</td>\n",
              "      <td>2.118003</td>\n",
              "    </tr>\n",
              "    <tr>\n",
              "      <th>16</th>\n",
              "      <td>Embu</td>\n",
              "      <td>16</td>\n",
              "      <td>1.203008</td>\n",
              "      <td>19</td>\n",
              "      <td>2.874433</td>\n",
              "    </tr>\n",
              "    <tr>\n",
              "      <th>17</th>\n",
              "      <td>Siaya</td>\n",
              "      <td>17</td>\n",
              "      <td>1.278195</td>\n",
              "      <td>9</td>\n",
              "      <td>1.361573</td>\n",
              "    </tr>\n",
              "    <tr>\n",
              "      <th>18</th>\n",
              "      <td>Taita-taveta</td>\n",
              "      <td>17</td>\n",
              "      <td>1.278195</td>\n",
              "      <td>2</td>\n",
              "      <td>0.302572</td>\n",
              "    </tr>\n",
              "    <tr>\n",
              "      <th>19</th>\n",
              "      <td>Kericho</td>\n",
              "      <td>22</td>\n",
              "      <td>1.654135</td>\n",
              "      <td>20</td>\n",
              "      <td>3.025719</td>\n",
              "    </tr>\n",
              "    <tr>\n",
              "      <th>20</th>\n",
              "      <td>Kirinyaga</td>\n",
              "      <td>24</td>\n",
              "      <td>1.804511</td>\n",
              "      <td>14</td>\n",
              "      <td>2.118003</td>\n",
              "    </tr>\n",
              "    <tr>\n",
              "      <th>21</th>\n",
              "      <td>Migori</td>\n",
              "      <td>24</td>\n",
              "      <td>1.804511</td>\n",
              "      <td>8</td>\n",
              "      <td>1.210287</td>\n",
              "    </tr>\n",
              "    <tr>\n",
              "      <th>22</th>\n",
              "      <td>Kitui</td>\n",
              "      <td>24</td>\n",
              "      <td>1.804511</td>\n",
              "      <td>13</td>\n",
              "      <td>1.966717</td>\n",
              "    </tr>\n",
              "    <tr>\n",
              "      <th>23</th>\n",
              "      <td>Kilifi</td>\n",
              "      <td>27</td>\n",
              "      <td>2.030075</td>\n",
              "      <td>13</td>\n",
              "      <td>1.966717</td>\n",
              "    </tr>\n",
              "    <tr>\n",
              "      <th>24</th>\n",
              "      <td>Makueni</td>\n",
              "      <td>27</td>\n",
              "      <td>2.030075</td>\n",
              "      <td>29</td>\n",
              "      <td>4.387292</td>\n",
              "    </tr>\n",
              "    <tr>\n",
              "      <th>25</th>\n",
              "      <td>Bungoma</td>\n",
              "      <td>30</td>\n",
              "      <td>2.255639</td>\n",
              "      <td>10</td>\n",
              "      <td>1.512859</td>\n",
              "    </tr>\n",
              "    <tr>\n",
              "      <th>26</th>\n",
              "      <td>Nyeri</td>\n",
              "      <td>31</td>\n",
              "      <td>2.330827</td>\n",
              "      <td>26</td>\n",
              "      <td>3.933434</td>\n",
              "    </tr>\n",
              "    <tr>\n",
              "      <th>27</th>\n",
              "      <td>Kajiado</td>\n",
              "      <td>32</td>\n",
              "      <td>2.406015</td>\n",
              "      <td>16</td>\n",
              "      <td>2.420575</td>\n",
              "    </tr>\n",
              "    <tr>\n",
              "      <th>28</th>\n",
              "      <td>Kisii</td>\n",
              "      <td>39</td>\n",
              "      <td>2.932331</td>\n",
              "      <td>10</td>\n",
              "      <td>1.512859</td>\n",
              "    </tr>\n",
              "    <tr>\n",
              "      <th>29</th>\n",
              "      <td>Kisumu</td>\n",
              "      <td>39</td>\n",
              "      <td>2.932331</td>\n",
              "      <td>20</td>\n",
              "      <td>3.025719</td>\n",
              "    </tr>\n",
              "    <tr>\n",
              "      <th>30</th>\n",
              "      <td>Mombasa</td>\n",
              "      <td>41</td>\n",
              "      <td>3.082707</td>\n",
              "      <td>13</td>\n",
              "      <td>1.966717</td>\n",
              "    </tr>\n",
              "    <tr>\n",
              "      <th>31</th>\n",
              "      <td>Muranga</td>\n",
              "      <td>44</td>\n",
              "      <td>3.308271</td>\n",
              "      <td>14</td>\n",
              "      <td>2.118003</td>\n",
              "    </tr>\n",
              "    <tr>\n",
              "      <th>32</th>\n",
              "      <td>Machakos</td>\n",
              "      <td>47</td>\n",
              "      <td>3.533835</td>\n",
              "      <td>39</td>\n",
              "      <td>5.900151</td>\n",
              "    </tr>\n",
              "    <tr>\n",
              "      <th>33</th>\n",
              "      <td>Meru</td>\n",
              "      <td>49</td>\n",
              "      <td>3.684211</td>\n",
              "      <td>17</td>\n",
              "      <td>2.571861</td>\n",
              "    </tr>\n",
              "    <tr>\n",
              "      <th>34</th>\n",
              "      <td>Kakamega</td>\n",
              "      <td>53</td>\n",
              "      <td>3.984962</td>\n",
              "      <td>26</td>\n",
              "      <td>3.933434</td>\n",
              "    </tr>\n",
              "    <tr>\n",
              "      <th>35</th>\n",
              "      <td>Nakuru</td>\n",
              "      <td>122</td>\n",
              "      <td>9.172932</td>\n",
              "      <td>41</td>\n",
              "      <td>6.202723</td>\n",
              "    </tr>\n",
              "    <tr>\n",
              "      <th>36</th>\n",
              "      <td>Kiambu</td>\n",
              "      <td>140</td>\n",
              "      <td>10.526316</td>\n",
              "      <td>56</td>\n",
              "      <td>8.472012</td>\n",
              "    </tr>\n",
              "    <tr>\n",
              "      <th>37</th>\n",
              "      <td>Nairobi</td>\n",
              "      <td>270</td>\n",
              "      <td>20.300752</td>\n",
              "      <td>98</td>\n",
              "      <td>14.826021</td>\n",
              "    </tr>\n",
              "  </tbody>\n",
              "</table>\n",
              "</div>"
            ],
            "text/plain": [
              "          COUNTY  COUNT_11  PROPORTION_11  COUNT_17  PROPORTION_17\n",
              "0        Mandera         1       0.075188         1       0.151286\n",
              "1       Marsabit         4       0.300752         6       0.907716\n",
              "2     West pokot         4       0.300752         3       0.453858\n",
              "3         Isiolo         6       0.451128         2       0.302572\n",
              "4          Kwale         7       0.526316         6       0.907716\n",
              "5          Bomet         7       0.526316         8       1.210287\n",
              "6          Nandi         8       0.601504         7       1.059002\n",
              "7         Vihiga        10       0.751880         5       0.756430\n",
              "8       Laikipia        10       0.751880         4       0.605144\n",
              "9          Busia        11       0.827068         7       1.059002\n",
              "10       Baringo        11       0.827068         9       1.361573\n",
              "11       Garissa        12       0.902256         8       1.210287\n",
              "12       Homabay        13       0.977444         5       0.756430\n",
              "13         Narok        13       0.977444        11       1.664145\n",
              "14     Nyandarua        14       1.052632        12       1.815431\n",
              "15       Nyamira        15       1.127820        14       2.118003\n",
              "16          Embu        16       1.203008        19       2.874433\n",
              "17         Siaya        17       1.278195         9       1.361573\n",
              "18  Taita-taveta        17       1.278195         2       0.302572\n",
              "19       Kericho        22       1.654135        20       3.025719\n",
              "20     Kirinyaga        24       1.804511        14       2.118003\n",
              "21        Migori        24       1.804511         8       1.210287\n",
              "22         Kitui        24       1.804511        13       1.966717\n",
              "23        Kilifi        27       2.030075        13       1.966717\n",
              "24       Makueni        27       2.030075        29       4.387292\n",
              "25       Bungoma        30       2.255639        10       1.512859\n",
              "26         Nyeri        31       2.330827        26       3.933434\n",
              "27       Kajiado        32       2.406015        16       2.420575\n",
              "28         Kisii        39       2.932331        10       1.512859\n",
              "29        Kisumu        39       2.932331        20       3.025719\n",
              "30       Mombasa        41       3.082707        13       1.966717\n",
              "31       Muranga        44       3.308271        14       2.118003\n",
              "32      Machakos        47       3.533835        39       5.900151\n",
              "33          Meru        49       3.684211        17       2.571861\n",
              "34      Kakamega        53       3.984962        26       3.933434\n",
              "35        Nakuru       122       9.172932        41       6.202723\n",
              "36        Kiambu       140      10.526316        56       8.472012\n",
              "37       Nairobi       270      20.300752        98      14.826021"
            ]
          },
          "metadata": {
            "tags": []
          },
          "execution_count": 54
        }
      ]
    },
    {
      "cell_type": "code",
      "metadata": {
        "colab": {
          "base_uri": "https://localhost:8080/",
          "height": 1000
        },
        "id": "nswdCvxxe-ye",
        "outputId": "1ae6ce5d-6167-4e06-e627-ee9230a5bcba"
      },
      "source": [
        "# Add difference column.\r\n",
        "\r\n",
        "Accidents_merged['Difference']= Accidents_merged['PROPORTION_11'] - Accidents_merged['PROPORTION_17']\r\n",
        "Accidents_merged.sort_values(by= 'Difference', ascending=False)"
      ],
      "execution_count": null,
      "outputs": [
        {
          "output_type": "execute_result",
          "data": {
            "text/html": [
              "<div>\n",
              "<style scoped>\n",
              "    .dataframe tbody tr th:only-of-type {\n",
              "        vertical-align: middle;\n",
              "    }\n",
              "\n",
              "    .dataframe tbody tr th {\n",
              "        vertical-align: top;\n",
              "    }\n",
              "\n",
              "    .dataframe thead th {\n",
              "        text-align: right;\n",
              "    }\n",
              "</style>\n",
              "<table border=\"1\" class=\"dataframe\">\n",
              "  <thead>\n",
              "    <tr style=\"text-align: right;\">\n",
              "      <th></th>\n",
              "      <th>COUNTY</th>\n",
              "      <th>COUNT_11</th>\n",
              "      <th>PROPORTION_11</th>\n",
              "      <th>COUNT_17</th>\n",
              "      <th>PROPORTION_17</th>\n",
              "      <th>Difference</th>\n",
              "    </tr>\n",
              "  </thead>\n",
              "  <tbody>\n",
              "    <tr>\n",
              "      <th>37</th>\n",
              "      <td>Nairobi</td>\n",
              "      <td>270</td>\n",
              "      <td>20.300752</td>\n",
              "      <td>98</td>\n",
              "      <td>14.826021</td>\n",
              "      <td>5.474731</td>\n",
              "    </tr>\n",
              "    <tr>\n",
              "      <th>35</th>\n",
              "      <td>Nakuru</td>\n",
              "      <td>122</td>\n",
              "      <td>9.172932</td>\n",
              "      <td>41</td>\n",
              "      <td>6.202723</td>\n",
              "      <td>2.970209</td>\n",
              "    </tr>\n",
              "    <tr>\n",
              "      <th>36</th>\n",
              "      <td>Kiambu</td>\n",
              "      <td>140</td>\n",
              "      <td>10.526316</td>\n",
              "      <td>56</td>\n",
              "      <td>8.472012</td>\n",
              "      <td>2.054304</td>\n",
              "    </tr>\n",
              "    <tr>\n",
              "      <th>28</th>\n",
              "      <td>Kisii</td>\n",
              "      <td>39</td>\n",
              "      <td>2.932331</td>\n",
              "      <td>10</td>\n",
              "      <td>1.512859</td>\n",
              "      <td>1.419472</td>\n",
              "    </tr>\n",
              "    <tr>\n",
              "      <th>31</th>\n",
              "      <td>Muranga</td>\n",
              "      <td>44</td>\n",
              "      <td>3.308271</td>\n",
              "      <td>14</td>\n",
              "      <td>2.118003</td>\n",
              "      <td>1.190268</td>\n",
              "    </tr>\n",
              "    <tr>\n",
              "      <th>30</th>\n",
              "      <td>Mombasa</td>\n",
              "      <td>41</td>\n",
              "      <td>3.082707</td>\n",
              "      <td>13</td>\n",
              "      <td>1.966717</td>\n",
              "      <td>1.115990</td>\n",
              "    </tr>\n",
              "    <tr>\n",
              "      <th>33</th>\n",
              "      <td>Meru</td>\n",
              "      <td>49</td>\n",
              "      <td>3.684211</td>\n",
              "      <td>17</td>\n",
              "      <td>2.571861</td>\n",
              "      <td>1.112350</td>\n",
              "    </tr>\n",
              "    <tr>\n",
              "      <th>18</th>\n",
              "      <td>Taita-taveta</td>\n",
              "      <td>17</td>\n",
              "      <td>1.278195</td>\n",
              "      <td>2</td>\n",
              "      <td>0.302572</td>\n",
              "      <td>0.975624</td>\n",
              "    </tr>\n",
              "    <tr>\n",
              "      <th>25</th>\n",
              "      <td>Bungoma</td>\n",
              "      <td>30</td>\n",
              "      <td>2.255639</td>\n",
              "      <td>10</td>\n",
              "      <td>1.512859</td>\n",
              "      <td>0.742780</td>\n",
              "    </tr>\n",
              "    <tr>\n",
              "      <th>21</th>\n",
              "      <td>Migori</td>\n",
              "      <td>24</td>\n",
              "      <td>1.804511</td>\n",
              "      <td>8</td>\n",
              "      <td>1.210287</td>\n",
              "      <td>0.594224</td>\n",
              "    </tr>\n",
              "    <tr>\n",
              "      <th>12</th>\n",
              "      <td>Homabay</td>\n",
              "      <td>13</td>\n",
              "      <td>0.977444</td>\n",
              "      <td>5</td>\n",
              "      <td>0.756430</td>\n",
              "      <td>0.221014</td>\n",
              "    </tr>\n",
              "    <tr>\n",
              "      <th>3</th>\n",
              "      <td>Isiolo</td>\n",
              "      <td>6</td>\n",
              "      <td>0.451128</td>\n",
              "      <td>2</td>\n",
              "      <td>0.302572</td>\n",
              "      <td>0.148556</td>\n",
              "    </tr>\n",
              "    <tr>\n",
              "      <th>8</th>\n",
              "      <td>Laikipia</td>\n",
              "      <td>10</td>\n",
              "      <td>0.751880</td>\n",
              "      <td>4</td>\n",
              "      <td>0.605144</td>\n",
              "      <td>0.146736</td>\n",
              "    </tr>\n",
              "    <tr>\n",
              "      <th>23</th>\n",
              "      <td>Kilifi</td>\n",
              "      <td>27</td>\n",
              "      <td>2.030075</td>\n",
              "      <td>13</td>\n",
              "      <td>1.966717</td>\n",
              "      <td>0.063358</td>\n",
              "    </tr>\n",
              "    <tr>\n",
              "      <th>34</th>\n",
              "      <td>Kakamega</td>\n",
              "      <td>53</td>\n",
              "      <td>3.984962</td>\n",
              "      <td>26</td>\n",
              "      <td>3.933434</td>\n",
              "      <td>0.051528</td>\n",
              "    </tr>\n",
              "    <tr>\n",
              "      <th>7</th>\n",
              "      <td>Vihiga</td>\n",
              "      <td>10</td>\n",
              "      <td>0.751880</td>\n",
              "      <td>5</td>\n",
              "      <td>0.756430</td>\n",
              "      <td>-0.004550</td>\n",
              "    </tr>\n",
              "    <tr>\n",
              "      <th>27</th>\n",
              "      <td>Kajiado</td>\n",
              "      <td>32</td>\n",
              "      <td>2.406015</td>\n",
              "      <td>16</td>\n",
              "      <td>2.420575</td>\n",
              "      <td>-0.014560</td>\n",
              "    </tr>\n",
              "    <tr>\n",
              "      <th>0</th>\n",
              "      <td>Mandera</td>\n",
              "      <td>1</td>\n",
              "      <td>0.075188</td>\n",
              "      <td>1</td>\n",
              "      <td>0.151286</td>\n",
              "      <td>-0.076098</td>\n",
              "    </tr>\n",
              "    <tr>\n",
              "      <th>17</th>\n",
              "      <td>Siaya</td>\n",
              "      <td>17</td>\n",
              "      <td>1.278195</td>\n",
              "      <td>9</td>\n",
              "      <td>1.361573</td>\n",
              "      <td>-0.083378</td>\n",
              "    </tr>\n",
              "    <tr>\n",
              "      <th>29</th>\n",
              "      <td>Kisumu</td>\n",
              "      <td>39</td>\n",
              "      <td>2.932331</td>\n",
              "      <td>20</td>\n",
              "      <td>3.025719</td>\n",
              "      <td>-0.093388</td>\n",
              "    </tr>\n",
              "    <tr>\n",
              "      <th>2</th>\n",
              "      <td>West pokot</td>\n",
              "      <td>4</td>\n",
              "      <td>0.300752</td>\n",
              "      <td>3</td>\n",
              "      <td>0.453858</td>\n",
              "      <td>-0.153106</td>\n",
              "    </tr>\n",
              "    <tr>\n",
              "      <th>22</th>\n",
              "      <td>Kitui</td>\n",
              "      <td>24</td>\n",
              "      <td>1.804511</td>\n",
              "      <td>13</td>\n",
              "      <td>1.966717</td>\n",
              "      <td>-0.162206</td>\n",
              "    </tr>\n",
              "    <tr>\n",
              "      <th>9</th>\n",
              "      <td>Busia</td>\n",
              "      <td>11</td>\n",
              "      <td>0.827068</td>\n",
              "      <td>7</td>\n",
              "      <td>1.059002</td>\n",
              "      <td>-0.231934</td>\n",
              "    </tr>\n",
              "    <tr>\n",
              "      <th>11</th>\n",
              "      <td>Garissa</td>\n",
              "      <td>12</td>\n",
              "      <td>0.902256</td>\n",
              "      <td>8</td>\n",
              "      <td>1.210287</td>\n",
              "      <td>-0.308032</td>\n",
              "    </tr>\n",
              "    <tr>\n",
              "      <th>20</th>\n",
              "      <td>Kirinyaga</td>\n",
              "      <td>24</td>\n",
              "      <td>1.804511</td>\n",
              "      <td>14</td>\n",
              "      <td>2.118003</td>\n",
              "      <td>-0.313492</td>\n",
              "    </tr>\n",
              "    <tr>\n",
              "      <th>4</th>\n",
              "      <td>Kwale</td>\n",
              "      <td>7</td>\n",
              "      <td>0.526316</td>\n",
              "      <td>6</td>\n",
              "      <td>0.907716</td>\n",
              "      <td>-0.381400</td>\n",
              "    </tr>\n",
              "    <tr>\n",
              "      <th>6</th>\n",
              "      <td>Nandi</td>\n",
              "      <td>8</td>\n",
              "      <td>0.601504</td>\n",
              "      <td>7</td>\n",
              "      <td>1.059002</td>\n",
              "      <td>-0.457498</td>\n",
              "    </tr>\n",
              "    <tr>\n",
              "      <th>10</th>\n",
              "      <td>Baringo</td>\n",
              "      <td>11</td>\n",
              "      <td>0.827068</td>\n",
              "      <td>9</td>\n",
              "      <td>1.361573</td>\n",
              "      <td>-0.534506</td>\n",
              "    </tr>\n",
              "    <tr>\n",
              "      <th>1</th>\n",
              "      <td>Marsabit</td>\n",
              "      <td>4</td>\n",
              "      <td>0.300752</td>\n",
              "      <td>6</td>\n",
              "      <td>0.907716</td>\n",
              "      <td>-0.606964</td>\n",
              "    </tr>\n",
              "    <tr>\n",
              "      <th>5</th>\n",
              "      <td>Bomet</td>\n",
              "      <td>7</td>\n",
              "      <td>0.526316</td>\n",
              "      <td>8</td>\n",
              "      <td>1.210287</td>\n",
              "      <td>-0.683972</td>\n",
              "    </tr>\n",
              "    <tr>\n",
              "      <th>13</th>\n",
              "      <td>Narok</td>\n",
              "      <td>13</td>\n",
              "      <td>0.977444</td>\n",
              "      <td>11</td>\n",
              "      <td>1.664145</td>\n",
              "      <td>-0.686702</td>\n",
              "    </tr>\n",
              "    <tr>\n",
              "      <th>14</th>\n",
              "      <td>Nyandarua</td>\n",
              "      <td>14</td>\n",
              "      <td>1.052632</td>\n",
              "      <td>12</td>\n",
              "      <td>1.815431</td>\n",
              "      <td>-0.762800</td>\n",
              "    </tr>\n",
              "    <tr>\n",
              "      <th>15</th>\n",
              "      <td>Nyamira</td>\n",
              "      <td>15</td>\n",
              "      <td>1.127820</td>\n",
              "      <td>14</td>\n",
              "      <td>2.118003</td>\n",
              "      <td>-0.990183</td>\n",
              "    </tr>\n",
              "    <tr>\n",
              "      <th>19</th>\n",
              "      <td>Kericho</td>\n",
              "      <td>22</td>\n",
              "      <td>1.654135</td>\n",
              "      <td>20</td>\n",
              "      <td>3.025719</td>\n",
              "      <td>-1.371583</td>\n",
              "    </tr>\n",
              "    <tr>\n",
              "      <th>26</th>\n",
              "      <td>Nyeri</td>\n",
              "      <td>31</td>\n",
              "      <td>2.330827</td>\n",
              "      <td>26</td>\n",
              "      <td>3.933434</td>\n",
              "      <td>-1.602607</td>\n",
              "    </tr>\n",
              "    <tr>\n",
              "      <th>16</th>\n",
              "      <td>Embu</td>\n",
              "      <td>16</td>\n",
              "      <td>1.203008</td>\n",
              "      <td>19</td>\n",
              "      <td>2.874433</td>\n",
              "      <td>-1.671425</td>\n",
              "    </tr>\n",
              "    <tr>\n",
              "      <th>24</th>\n",
              "      <td>Makueni</td>\n",
              "      <td>27</td>\n",
              "      <td>2.030075</td>\n",
              "      <td>29</td>\n",
              "      <td>4.387292</td>\n",
              "      <td>-2.357217</td>\n",
              "    </tr>\n",
              "    <tr>\n",
              "      <th>32</th>\n",
              "      <td>Machakos</td>\n",
              "      <td>47</td>\n",
              "      <td>3.533835</td>\n",
              "      <td>39</td>\n",
              "      <td>5.900151</td>\n",
              "      <td>-2.366317</td>\n",
              "    </tr>\n",
              "  </tbody>\n",
              "</table>\n",
              "</div>"
            ],
            "text/plain": [
              "          COUNTY  COUNT_11  PROPORTION_11  COUNT_17  PROPORTION_17  Difference\n",
              "37       Nairobi       270      20.300752        98      14.826021    5.474731\n",
              "35        Nakuru       122       9.172932        41       6.202723    2.970209\n",
              "36        Kiambu       140      10.526316        56       8.472012    2.054304\n",
              "28         Kisii        39       2.932331        10       1.512859    1.419472\n",
              "31       Muranga        44       3.308271        14       2.118003    1.190268\n",
              "30       Mombasa        41       3.082707        13       1.966717    1.115990\n",
              "33          Meru        49       3.684211        17       2.571861    1.112350\n",
              "18  Taita-taveta        17       1.278195         2       0.302572    0.975624\n",
              "25       Bungoma        30       2.255639        10       1.512859    0.742780\n",
              "21        Migori        24       1.804511         8       1.210287    0.594224\n",
              "12       Homabay        13       0.977444         5       0.756430    0.221014\n",
              "3         Isiolo         6       0.451128         2       0.302572    0.148556\n",
              "8       Laikipia        10       0.751880         4       0.605144    0.146736\n",
              "23        Kilifi        27       2.030075        13       1.966717    0.063358\n",
              "34      Kakamega        53       3.984962        26       3.933434    0.051528\n",
              "7         Vihiga        10       0.751880         5       0.756430   -0.004550\n",
              "27       Kajiado        32       2.406015        16       2.420575   -0.014560\n",
              "0        Mandera         1       0.075188         1       0.151286   -0.076098\n",
              "17         Siaya        17       1.278195         9       1.361573   -0.083378\n",
              "29        Kisumu        39       2.932331        20       3.025719   -0.093388\n",
              "2     West pokot         4       0.300752         3       0.453858   -0.153106\n",
              "22         Kitui        24       1.804511        13       1.966717   -0.162206\n",
              "9          Busia        11       0.827068         7       1.059002   -0.231934\n",
              "11       Garissa        12       0.902256         8       1.210287   -0.308032\n",
              "20     Kirinyaga        24       1.804511        14       2.118003   -0.313492\n",
              "4          Kwale         7       0.526316         6       0.907716   -0.381400\n",
              "6          Nandi         8       0.601504         7       1.059002   -0.457498\n",
              "10       Baringo        11       0.827068         9       1.361573   -0.534506\n",
              "1       Marsabit         4       0.300752         6       0.907716   -0.606964\n",
              "5          Bomet         7       0.526316         8       1.210287   -0.683972\n",
              "13         Narok        13       0.977444        11       1.664145   -0.686702\n",
              "14     Nyandarua        14       1.052632        12       1.815431   -0.762800\n",
              "15       Nyamira        15       1.127820        14       2.118003   -0.990183\n",
              "19       Kericho        22       1.654135        20       3.025719   -1.371583\n",
              "26         Nyeri        31       2.330827        26       3.933434   -1.602607\n",
              "16          Embu        16       1.203008        19       2.874433   -1.671425\n",
              "24       Makueni        27       2.030075        29       4.387292   -2.357217\n",
              "32      Machakos        47       3.533835        39       5.900151   -2.366317"
            ]
          },
          "metadata": {
            "tags": []
          },
          "execution_count": 55
        }
      ]
    },
    {
      "cell_type": "markdown",
      "metadata": {
        "id": "G7vcB4iRP4c_"
      },
      "source": [
        "#### Question Six  \r\n",
        "\r\n",
        "##### What time of the year had the most number of cases?"
      ]
    },
    {
      "cell_type": "markdown",
      "metadata": {
        "id": "M-0LOaA7ThYy"
      },
      "source": [
        "##### *A. 2011 Traffic Accidents*"
      ]
    },
    {
      "cell_type": "code",
      "metadata": {
        "colab": {
          "base_uri": "https://localhost:8080/",
          "height": 589
        },
        "id": "tYQdwQ8hQJaw",
        "outputId": "451f260f-a286-4404-cc55-375897d5917f"
      },
      "source": [
        "#extract month from datetime format\r\n",
        "Accidents_2011['MONTH'] = Accidents_2011['DATE_YMD'].dt.month\r\n",
        "Accidents_2011"
      ],
      "execution_count": null,
      "outputs": [
        {
          "output_type": "execute_result",
          "data": {
            "text/html": [
              "<div>\n",
              "<style scoped>\n",
              "    .dataframe tbody tr th:only-of-type {\n",
              "        vertical-align: middle;\n",
              "    }\n",
              "\n",
              "    .dataframe tbody tr th {\n",
              "        vertical-align: top;\n",
              "    }\n",
              "\n",
              "    .dataframe thead th {\n",
              "        text-align: right;\n",
              "    }\n",
              "</style>\n",
              "<table border=\"1\" class=\"dataframe\">\n",
              "  <thead>\n",
              "    <tr style=\"text-align: right;\">\n",
              "      <th></th>\n",
              "      <th>COUNTY</th>\n",
              "      <th>DISTRICT</th>\n",
              "      <th>DATE_YMD</th>\n",
              "      <th>DESCRIPTION_OF_CAUSE</th>\n",
              "      <th>DEATHS</th>\n",
              "      <th>INJURED</th>\n",
              "      <th>TOT_VICTIMS</th>\n",
              "      <th>MONTH</th>\n",
              "    </tr>\n",
              "  </thead>\n",
              "  <tbody>\n",
              "    <tr>\n",
              "      <th>2</th>\n",
              "      <td>Nairobi</td>\n",
              "      <td>Nairobi</td>\n",
              "      <td>2011-01-01 08:00:00</td>\n",
              "      <td>Hit and run</td>\n",
              "      <td>1</td>\n",
              "      <td>0</td>\n",
              "      <td>1</td>\n",
              "      <td>1</td>\n",
              "    </tr>\n",
              "    <tr>\n",
              "      <th>3</th>\n",
              "      <td>Kericho</td>\n",
              "      <td>Buret</td>\n",
              "      <td>2011-01-01 08:00:00</td>\n",
              "      <td>Driver lost control of the vehicle</td>\n",
              "      <td>0</td>\n",
              "      <td>14</td>\n",
              "      <td>14</td>\n",
              "      <td>1</td>\n",
              "    </tr>\n",
              "    <tr>\n",
              "      <th>5</th>\n",
              "      <td>Laikipia</td>\n",
              "      <td>Laikipia west</td>\n",
              "      <td>2011-01-01 08:00:00</td>\n",
              "      <td>Pedal cyclist was knocked down</td>\n",
              "      <td>1</td>\n",
              "      <td>0</td>\n",
              "      <td>1</td>\n",
              "      <td>1</td>\n",
              "    </tr>\n",
              "    <tr>\n",
              "      <th>7</th>\n",
              "      <td>Nakuru</td>\n",
              "      <td>Nakuru</td>\n",
              "      <td>2011-01-01 08:00:00</td>\n",
              "      <td>Hit and run by a motor cycle</td>\n",
              "      <td>1</td>\n",
              "      <td>0</td>\n",
              "      <td>1</td>\n",
              "      <td>1</td>\n",
              "    </tr>\n",
              "    <tr>\n",
              "      <th>9</th>\n",
              "      <td>Kitui</td>\n",
              "      <td>Kitui</td>\n",
              "      <td>2011-01-01 08:00:00</td>\n",
              "      <td>Driver lost control of the vehicle</td>\n",
              "      <td>1</td>\n",
              "      <td>0</td>\n",
              "      <td>1</td>\n",
              "      <td>1</td>\n",
              "    </tr>\n",
              "    <tr>\n",
              "      <th>...</th>\n",
              "      <td>...</td>\n",
              "      <td>...</td>\n",
              "      <td>...</td>\n",
              "      <td>...</td>\n",
              "      <td>...</td>\n",
              "      <td>...</td>\n",
              "      <td>...</td>\n",
              "      <td>...</td>\n",
              "    </tr>\n",
              "    <tr>\n",
              "      <th>1353</th>\n",
              "      <td>Kericho</td>\n",
              "      <td>Buret</td>\n",
              "      <td>2011-12-21 08:00:00</td>\n",
              "      <td>Unspecified</td>\n",
              "      <td>1</td>\n",
              "      <td>0</td>\n",
              "      <td>1</td>\n",
              "      <td>12</td>\n",
              "    </tr>\n",
              "    <tr>\n",
              "      <th>1347</th>\n",
              "      <td>Nyeri</td>\n",
              "      <td>Nyeri</td>\n",
              "      <td>2011-12-21 08:00:00</td>\n",
              "      <td>M/vehicle knocked down a pedestrian killing him</td>\n",
              "      <td>1</td>\n",
              "      <td>0</td>\n",
              "      <td>1</td>\n",
              "      <td>12</td>\n",
              "    </tr>\n",
              "    <tr>\n",
              "      <th>1354</th>\n",
              "      <td>Nakuru</td>\n",
              "      <td>Nakuru</td>\n",
              "      <td>2011-12-21 08:00:00</td>\n",
              "      <td>A lorry driver hit a tree</td>\n",
              "      <td>1</td>\n",
              "      <td>0</td>\n",
              "      <td>1</td>\n",
              "      <td>12</td>\n",
              "    </tr>\n",
              "    <tr>\n",
              "      <th>1004</th>\n",
              "      <td>Makueni</td>\n",
              "      <td>Makueni</td>\n",
              "      <td>2011-12-28 08:00:00</td>\n",
              "      <td>A bus veered of the road and landed in a ditch</td>\n",
              "      <td>1</td>\n",
              "      <td>39</td>\n",
              "      <td>40</td>\n",
              "      <td>12</td>\n",
              "    </tr>\n",
              "    <tr>\n",
              "      <th>1003</th>\n",
              "      <td>Kiambu</td>\n",
              "      <td>Thika</td>\n",
              "      <td>2011-12-28 08:00:00</td>\n",
              "      <td>Three vehicles were involved in an accident</td>\n",
              "      <td>0</td>\n",
              "      <td>14</td>\n",
              "      <td>14</td>\n",
              "      <td>12</td>\n",
              "    </tr>\n",
              "  </tbody>\n",
              "</table>\n",
              "<p>1330 rows × 8 columns</p>\n",
              "</div>"
            ],
            "text/plain": [
              "        COUNTY       DISTRICT            DATE_YMD  ... INJURED  TOT_VICTIMS  MONTH\n",
              "2      Nairobi        Nairobi 2011-01-01 08:00:00  ...       0            1      1\n",
              "3      Kericho          Buret 2011-01-01 08:00:00  ...      14           14      1\n",
              "5     Laikipia  Laikipia west 2011-01-01 08:00:00  ...       0            1      1\n",
              "7       Nakuru         Nakuru 2011-01-01 08:00:00  ...       0            1      1\n",
              "9        Kitui          Kitui 2011-01-01 08:00:00  ...       0            1      1\n",
              "...        ...            ...                 ...  ...     ...          ...    ...\n",
              "1353   Kericho          Buret 2011-12-21 08:00:00  ...       0            1     12\n",
              "1347     Nyeri          Nyeri 2011-12-21 08:00:00  ...       0            1     12\n",
              "1354    Nakuru         Nakuru 2011-12-21 08:00:00  ...       0            1     12\n",
              "1004   Makueni        Makueni 2011-12-28 08:00:00  ...      39           40     12\n",
              "1003    Kiambu          Thika 2011-12-28 08:00:00  ...      14           14     12\n",
              "\n",
              "[1330 rows x 8 columns]"
            ]
          },
          "metadata": {
            "tags": []
          },
          "execution_count": 56
        }
      ]
    },
    {
      "cell_type": "code",
      "metadata": {
        "colab": {
          "base_uri": "https://localhost:8080/",
          "height": 204
        },
        "id": "TT4PtKweSJ29",
        "outputId": "fedca930-a25c-4037-d888-d9f3a28bdf2d"
      },
      "source": [
        "# Group dataframe by month and count the number of accidents in each month \r\n",
        "Accidents_month11 = Accidents_2011.groupby(['MONTH']).size()\r\n",
        "Accidents_month11 = Accidents_month11.to_frame(name = 'COUNT').reset_index()\r\n",
        "Accidents_month11 = Accidents_month11.sort_values(by = 'COUNT', ascending = False)\r\n",
        "Accidents_month11.head(5)"
      ],
      "execution_count": null,
      "outputs": [
        {
          "output_type": "execute_result",
          "data": {
            "text/html": [
              "<div>\n",
              "<style scoped>\n",
              "    .dataframe tbody tr th:only-of-type {\n",
              "        vertical-align: middle;\n",
              "    }\n",
              "\n",
              "    .dataframe tbody tr th {\n",
              "        vertical-align: top;\n",
              "    }\n",
              "\n",
              "    .dataframe thead th {\n",
              "        text-align: right;\n",
              "    }\n",
              "</style>\n",
              "<table border=\"1\" class=\"dataframe\">\n",
              "  <thead>\n",
              "    <tr style=\"text-align: right;\">\n",
              "      <th></th>\n",
              "      <th>MONTH</th>\n",
              "      <th>COUNT</th>\n",
              "    </tr>\n",
              "  </thead>\n",
              "  <tbody>\n",
              "    <tr>\n",
              "      <th>8</th>\n",
              "      <td>9</td>\n",
              "      <td>197</td>\n",
              "    </tr>\n",
              "    <tr>\n",
              "      <th>0</th>\n",
              "      <td>1</td>\n",
              "      <td>190</td>\n",
              "    </tr>\n",
              "    <tr>\n",
              "      <th>9</th>\n",
              "      <td>10</td>\n",
              "      <td>169</td>\n",
              "    </tr>\n",
              "    <tr>\n",
              "      <th>5</th>\n",
              "      <td>6</td>\n",
              "      <td>158</td>\n",
              "    </tr>\n",
              "    <tr>\n",
              "      <th>6</th>\n",
              "      <td>7</td>\n",
              "      <td>137</td>\n",
              "    </tr>\n",
              "  </tbody>\n",
              "</table>\n",
              "</div>"
            ],
            "text/plain": [
              "   MONTH  COUNT\n",
              "8      9    197\n",
              "0      1    190\n",
              "9     10    169\n",
              "5      6    158\n",
              "6      7    137"
            ]
          },
          "metadata": {
            "tags": []
          },
          "execution_count": 57
        }
      ]
    },
    {
      "cell_type": "code",
      "metadata": {
        "colab": {
          "base_uri": "https://localhost:8080/",
          "height": 350
        },
        "id": "n3UAI8VCckKN",
        "outputId": "3c893ac6-5b54-40b9-89ea-ab3f16b71fd8"
      },
      "source": [
        "fig = plt.figure(figsize = (10, 5))\r\n",
        "plt.bar(Accidents_month11.MONTH, Accidents_month11.COUNT, color ='maroon',  \r\n",
        "        width = 0.4)\r\n",
        "plt.xlabel(\"Months sampled\") \r\n",
        "plt.ylabel(\"No. of accidents\") \r\n",
        "plt.title(\"Bar Chart of Accidents in different months (2011)\") \r\n",
        "plt.show() \r\n"
      ],
      "execution_count": null,
      "outputs": [
        {
          "output_type": "display_data",
          "data": {
            "image/png": "[encoded data removed]",
            "text/plain": [
              "<Figure size 720x360 with 1 Axes>"
            ]
          },
          "metadata": {
            "tags": [],
            "needs_background": "light"
          }
        }
      ]
    },
    {
      "cell_type": "markdown",
      "metadata": {
        "id": "LzUw63uZTqLq"
      },
      "source": [
        "##### *B. 2017 Traffic Accidents*"
      ]
    },
    {
      "cell_type": "code",
      "metadata": {
        "colab": {
          "base_uri": "https://localhost:8080/",
          "height": 419
        },
        "id": "pdcuVQq3UHme",
        "outputId": "a5c866c6-8443-4da2-df26-4b10a4de520a"
      },
      "source": [
        "#extract month from datetime format\r\n",
        "Accidents_2017['MONTH'] = Accidents_2017['DATE'].dt.month\r\n",
        "Accidents_2017"
      ],
      "execution_count": null,
      "outputs": [
        {
          "output_type": "execute_result",
          "data": {
            "text/html": [
              "<div>\n",
              "<style scoped>\n",
              "    .dataframe tbody tr th:only-of-type {\n",
              "        vertical-align: middle;\n",
              "    }\n",
              "\n",
              "    .dataframe tbody tr th {\n",
              "        vertical-align: top;\n",
              "    }\n",
              "\n",
              "    .dataframe thead th {\n",
              "        text-align: right;\n",
              "    }\n",
              "</style>\n",
              "<table border=\"1\" class=\"dataframe\">\n",
              "  <thead>\n",
              "    <tr style=\"text-align: right;\">\n",
              "      <th></th>\n",
              "      <th>COUNTY</th>\n",
              "      <th>ROAD</th>\n",
              "      <th>DESCRIPTION_OF_CAUSE</th>\n",
              "      <th>TOT_VICTIMS</th>\n",
              "      <th>DATE</th>\n",
              "      <th>MONTH</th>\n",
              "    </tr>\n",
              "  </thead>\n",
              "  <tbody>\n",
              "    <tr>\n",
              "      <th>0</th>\n",
              "      <td>Kisumu</td>\n",
              "      <td>Nairobi-busia</td>\n",
              "      <td>The vehicle lost control and hit barrier landi...</td>\n",
              "      <td>1</td>\n",
              "      <td>2017-11-06</td>\n",
              "      <td>11</td>\n",
              "    </tr>\n",
              "    <tr>\n",
              "      <th>1</th>\n",
              "      <td>Narok</td>\n",
              "      <td>Narok-mau</td>\n",
              "      <td>The vehicle knocked down the victim</td>\n",
              "      <td>1</td>\n",
              "      <td>2017-11-06</td>\n",
              "      <td>11</td>\n",
              "    </tr>\n",
              "    <tr>\n",
              "      <th>2</th>\n",
              "      <td>Kericho</td>\n",
              "      <td>Kericho-nakuru</td>\n",
              "      <td>The vehicle lost control,veering off the road ...</td>\n",
              "      <td>1</td>\n",
              "      <td>2017-11-06</td>\n",
              "      <td>11</td>\n",
              "    </tr>\n",
              "    <tr>\n",
              "      <th>3</th>\n",
              "      <td>Bungoma</td>\n",
              "      <td>Bokoli-kimilili</td>\n",
              "      <td>The vehicle knocked down the victim</td>\n",
              "      <td>1</td>\n",
              "      <td>2017-11-06</td>\n",
              "      <td>11</td>\n",
              "    </tr>\n",
              "    <tr>\n",
              "      <th>4</th>\n",
              "      <td>Nakuru</td>\n",
              "      <td>Pipeline elementaita</td>\n",
              "      <td>The vehicle hit the motor cycle</td>\n",
              "      <td>1</td>\n",
              "      <td>2017-11-06</td>\n",
              "      <td>11</td>\n",
              "    </tr>\n",
              "    <tr>\n",
              "      <th>...</th>\n",
              "      <td>...</td>\n",
              "      <td>...</td>\n",
              "      <td>...</td>\n",
              "      <td>...</td>\n",
              "      <td>...</td>\n",
              "      <td>...</td>\n",
              "    </tr>\n",
              "    <tr>\n",
              "      <th>735</th>\n",
              "      <td>Migori</td>\n",
              "      <td>Ntimaru-kehancha</td>\n",
              "      <td>The vehicle knocked down the pedestrian</td>\n",
              "      <td>1</td>\n",
              "      <td>2017-02-22</td>\n",
              "      <td>2</td>\n",
              "    </tr>\n",
              "    <tr>\n",
              "      <th>736</th>\n",
              "      <td>Kirinyaga</td>\n",
              "      <td>Kenol-makutano</td>\n",
              "      <td>The cycle hit the stationary vehicle</td>\n",
              "      <td>2</td>\n",
              "      <td>2017-02-22</td>\n",
              "      <td>2</td>\n",
              "    </tr>\n",
              "    <tr>\n",
              "      <th>737</th>\n",
              "      <td>Nairobi</td>\n",
              "      <td>Thika rd</td>\n",
              "      <td>The vehicle knocked down the pedestiran</td>\n",
              "      <td>1</td>\n",
              "      <td>2017-02-22</td>\n",
              "      <td>2</td>\n",
              "    </tr>\n",
              "    <tr>\n",
              "      <th>738</th>\n",
              "      <td>Makueni</td>\n",
              "      <td>Nairobi-kangundo</td>\n",
              "      <td>The vehicle collided head on with the m/cycle</td>\n",
              "      <td>1</td>\n",
              "      <td>2017-02-22</td>\n",
              "      <td>2</td>\n",
              "    </tr>\n",
              "    <tr>\n",
              "      <th>739</th>\n",
              "      <td>Nairobi</td>\n",
              "      <td>Waiyaki way</td>\n",
              "      <td>The vehicle knocked down the pedestrian</td>\n",
              "      <td>1</td>\n",
              "      <td>2017-02-22</td>\n",
              "      <td>2</td>\n",
              "    </tr>\n",
              "  </tbody>\n",
              "</table>\n",
              "<p>661 rows × 6 columns</p>\n",
              "</div>"
            ],
            "text/plain": [
              "        COUNTY                  ROAD  ...       DATE  MONTH\n",
              "0       Kisumu         Nairobi-busia  ... 2017-11-06     11\n",
              "1        Narok             Narok-mau  ... 2017-11-06     11\n",
              "2      Kericho        Kericho-nakuru  ... 2017-11-06     11\n",
              "3      Bungoma       Bokoli-kimilili  ... 2017-11-06     11\n",
              "4       Nakuru  Pipeline elementaita  ... 2017-11-06     11\n",
              "..         ...                   ...  ...        ...    ...\n",
              "735     Migori      Ntimaru-kehancha  ... 2017-02-22      2\n",
              "736  Kirinyaga        Kenol-makutano  ... 2017-02-22      2\n",
              "737    Nairobi              Thika rd  ... 2017-02-22      2\n",
              "738    Makueni      Nairobi-kangundo  ... 2017-02-22      2\n",
              "739    Nairobi           Waiyaki way  ... 2017-02-22      2\n",
              "\n",
              "[661 rows x 6 columns]"
            ]
          },
          "metadata": {
            "tags": []
          },
          "execution_count": 59
        }
      ]
    },
    {
      "cell_type": "code",
      "metadata": {
        "colab": {
          "base_uri": "https://localhost:8080/",
          "height": 204
        },
        "id": "Lmi9eLqYTy2f",
        "outputId": "4a163ae9-e032-43e3-a542-280af7eb8eeb"
      },
      "source": [
        "# Group dataframe by month and count the number of accidents in each month \r\n",
        "Accidents_month17 = Accidents_2017.groupby(['MONTH']).size()\r\n",
        "Accidents_month17 = Accidents_month17.to_frame(name = 'COUNT').reset_index()\r\n",
        "Accidents_month17 = Accidents_month17.sort_values(by = 'COUNT', ascending = False)\r\n",
        "Accidents_month17.head(5)"
      ],
      "execution_count": null,
      "outputs": [
        {
          "output_type": "execute_result",
          "data": {
            "text/html": [
              "<div>\n",
              "<style scoped>\n",
              "    .dataframe tbody tr th:only-of-type {\n",
              "        vertical-align: middle;\n",
              "    }\n",
              "\n",
              "    .dataframe tbody tr th {\n",
              "        vertical-align: top;\n",
              "    }\n",
              "\n",
              "    .dataframe thead th {\n",
              "        text-align: right;\n",
              "    }\n",
              "</style>\n",
              "<table border=\"1\" class=\"dataframe\">\n",
              "  <thead>\n",
              "    <tr style=\"text-align: right;\">\n",
              "      <th></th>\n",
              "      <th>MONTH</th>\n",
              "      <th>COUNT</th>\n",
              "    </tr>\n",
              "  </thead>\n",
              "  <tbody>\n",
              "    <tr>\n",
              "      <th>5</th>\n",
              "      <td>7</td>\n",
              "      <td>156</td>\n",
              "    </tr>\n",
              "    <tr>\n",
              "      <th>1</th>\n",
              "      <td>3</td>\n",
              "      <td>134</td>\n",
              "    </tr>\n",
              "    <tr>\n",
              "      <th>6</th>\n",
              "      <td>8</td>\n",
              "      <td>113</td>\n",
              "    </tr>\n",
              "    <tr>\n",
              "      <th>3</th>\n",
              "      <td>5</td>\n",
              "      <td>62</td>\n",
              "    </tr>\n",
              "    <tr>\n",
              "      <th>7</th>\n",
              "      <td>9</td>\n",
              "      <td>57</td>\n",
              "    </tr>\n",
              "  </tbody>\n",
              "</table>\n",
              "</div>"
            ],
            "text/plain": [
              "   MONTH  COUNT\n",
              "5      7    156\n",
              "1      3    134\n",
              "6      8    113\n",
              "3      5     62\n",
              "7      9     57"
            ]
          },
          "metadata": {
            "tags": []
          },
          "execution_count": 60
        }
      ]
    },
    {
      "cell_type": "code",
      "metadata": {
        "colab": {
          "base_uri": "https://localhost:8080/",
          "height": 350
        },
        "id": "gJ430-gyduAm",
        "outputId": "28bc21d1-dec5-4638-fa46-1aba58b207b7"
      },
      "source": [
        "fig = plt.figure(figsize = (10, 5))\r\n",
        "plt.bar(Accidents_month17.MONTH, Accidents_month17.COUNT, color ='blue',  \r\n",
        "        width = 0.4)\r\n",
        "plt.xlabel(\"Months sampled\") \r\n",
        "plt.ylabel(\"No. of accidents\") \r\n",
        "plt.title(\"Bar Chart of Accidents in different months (2017)\") \r\n",
        "plt.show() "
      ],
      "execution_count": null,
      "outputs": [
        {
          "output_type": "display_data",
          "data": {
            "image/png": "[encoded data removed]",
            "text/plain": [
              "<Figure size 720x360 with 1 Axes>"
            ]
          },
          "metadata": {
            "tags": [],
            "needs_background": "light"
          }
        }
      ]
    },
    {
      "cell_type": "markdown",
      "metadata": {
        "id": "5IAzyzEd7ucF"
      },
      "source": [
        "# RECOMENDATIONS\r\n",
        "\r\n",
        "\r\n",
        "The main recommendations of this data project were as follows: \r\n",
        "\r\n",
        "Better judgement from motorists and pedestrians especially on the urban roads (Waiyaki way and Mombasa road)\r\n",
        "\r\n",
        "Improved road infrastructure and technology especially on urban coutnies of Nairobi and Kiambu.\r\n",
        "\r\n",
        "Fixing or getting rid of unroadworthy vehicles.\r\n",
        "\r\n",
        "Nairobi County Government needs to put up more traffic lights especially along\r\n",
        "Waiyaki way and Mombasa Road.\r\n",
        "\r\n",
        "The NTSA needs to put up more roadblocks and checks along the Mombasa road section in Makueni and Machakos county.\r\n",
        "\r\n",
        "NTSA needs to enforce the Footbridge law and ensure that pedestrians do not cross under the bridge...especially along the Thika Super Highway\r\n"
      ]
    }
  ]
}